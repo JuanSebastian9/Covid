{
 "cells": [
  {
   "cell_type": "code",
   "execution_count": 30,
   "id": "597fc3b7",
   "metadata": {},
   "outputs": [],
   "source": [
    "# Importar librerías\n",
    "import pandas as pd\n",
    "import numpy as np\n",
    "import matplotlib.pyplot as plt\n",
    "import seaborn as sns\n",
    "import geopandas as gpd"
   ]
  },
  {
   "cell_type": "code",
   "execution_count": 31,
   "id": "e4a74e3d",
   "metadata": {},
   "outputs": [],
   "source": [
    "data = pd.read_csv(\"c:\\\\Users\\\\benav\\\\Downloads\\\\data_latinoamerica.csv\") #se puede de a chunk pero en este momento no es necesario "
   ]
  },
  {
   "cell_type": "code",
   "execution_count": 32,
   "id": "f7ea0a1a",
   "metadata": {},
   "outputs": [
    {
     "data": {
      "application/vnd.microsoft.datawrangler.viewer.v0+json": {
       "columns": [
        {
         "name": "index",
         "rawType": "int64",
         "type": "integer"
        },
        {
         "name": "location_key",
         "rawType": "object",
         "type": "string"
        },
        {
         "name": "date",
         "rawType": "object",
         "type": "string"
        },
        {
         "name": "country_code",
         "rawType": "object",
         "type": "string"
        },
        {
         "name": "country_name",
         "rawType": "object",
         "type": "string"
        },
        {
         "name": "new_confirmed",
         "rawType": "float64",
         "type": "float"
        },
        {
         "name": "new_deceased",
         "rawType": "float64",
         "type": "float"
        },
        {
         "name": "cumulative_confirmed",
         "rawType": "float64",
         "type": "float"
        },
        {
         "name": "cumulative_deceased",
         "rawType": "float64",
         "type": "float"
        },
        {
         "name": "cumulative_vaccine_doses_administered",
         "rawType": "float64",
         "type": "float"
        },
        {
         "name": "population",
         "rawType": "float64",
         "type": "float"
        },
        {
         "name": "population_male",
         "rawType": "float64",
         "type": "float"
        },
        {
         "name": "population_female",
         "rawType": "float64",
         "type": "float"
        },
        {
         "name": "population_rural",
         "rawType": "float64",
         "type": "float"
        },
        {
         "name": "population_urban",
         "rawType": "float64",
         "type": "float"
        },
        {
         "name": "population_density",
         "rawType": "float64",
         "type": "float"
        },
        {
         "name": "human_development_index",
         "rawType": "float64",
         "type": "float"
        },
        {
         "name": "population_age_00_09",
         "rawType": "float64",
         "type": "float"
        },
        {
         "name": "population_age_10_19",
         "rawType": "float64",
         "type": "float"
        },
        {
         "name": "population_age_20_29",
         "rawType": "float64",
         "type": "float"
        },
        {
         "name": "population_age_30_39",
         "rawType": "float64",
         "type": "float"
        },
        {
         "name": "population_age_40_49",
         "rawType": "float64",
         "type": "float"
        },
        {
         "name": "population_age_50_59",
         "rawType": "float64",
         "type": "float"
        },
        {
         "name": "population_age_60_69",
         "rawType": "float64",
         "type": "float"
        },
        {
         "name": "population_age_70_79",
         "rawType": "float64",
         "type": "float"
        },
        {
         "name": "population_age_80_and_older",
         "rawType": "float64",
         "type": "float"
        },
        {
         "name": "gdp_usd",
         "rawType": "float64",
         "type": "float"
        },
        {
         "name": "gdp_per_capita_usd",
         "rawType": "float64",
         "type": "float"
        },
        {
         "name": "latitude",
         "rawType": "float64",
         "type": "float"
        },
        {
         "name": "longitude",
         "rawType": "float64",
         "type": "float"
        },
        {
         "name": "area_sq_km",
         "rawType": "float64",
         "type": "float"
        },
        {
         "name": "smoking_prevalence",
         "rawType": "float64",
         "type": "float"
        },
        {
         "name": "diabetes_prevalence",
         "rawType": "float64",
         "type": "float"
        },
        {
         "name": "infant_mortality_rate",
         "rawType": "float64",
         "type": "float"
        },
        {
         "name": "nurses_per_1000",
         "rawType": "float64",
         "type": "float"
        },
        {
         "name": "physicians_per_1000",
         "rawType": "float64",
         "type": "float"
        },
        {
         "name": "average_temperature_celsius",
         "rawType": "float64",
         "type": "float"
        },
        {
         "name": "minimum_temperature_celsius",
         "rawType": "float64",
         "type": "float"
        },
        {
         "name": "maximum_temperature_celsius",
         "rawType": "float64",
         "type": "float"
        },
        {
         "name": "rainfall_mm",
         "rawType": "float64",
         "type": "float"
        },
        {
         "name": "relative_humidity",
         "rawType": "float64",
         "type": "float"
        },
        {
         "name": "population_largest_city",
         "rawType": "float64",
         "type": "float"
        },
        {
         "name": "area_rural_sq_km",
         "rawType": "float64",
         "type": "float"
        },
        {
         "name": "area_urban_sq_km",
         "rawType": "float64",
         "type": "float"
        },
        {
         "name": "life_expectancy",
         "rawType": "float64",
         "type": "float"
        },
        {
         "name": "adult_male_mortality_rate",
         "rawType": "float64",
         "type": "float"
        },
        {
         "name": "adult_female_mortality_rate",
         "rawType": "float64",
         "type": "float"
        },
        {
         "name": "pollution_mortality_rate",
         "rawType": "float64",
         "type": "float"
        },
        {
         "name": "comorbidity_mortality_rate",
         "rawType": "float64",
         "type": "float"
        },
        {
         "name": "new_recovered",
         "rawType": "float64",
         "type": "float"
        },
        {
         "name": "cumulative_recovered",
         "rawType": "float64",
         "type": "float"
        }
       ],
       "ref": "b21d44f5-d1f5-4da2-9da6-ae0d92292f55",
       "rows": [
        [
         "0",
         "AR",
         "2020-01-01",
         "AR",
         "Argentina",
         "3.0",
         "0.0",
         "3.0",
         "0.0",
         null,
         "44938712.0",
         "19523766.0",
         "20593330.0",
         "3599141.0",
         "41339571.0",
         "16.515",
         "0.825",
         "6718871.0",
         "7045513.0",
         "6430658.0",
         "5777148.0",
         "4507125.0",
         "3911943.0",
         "2914251.0",
         "1817557.0",
         "994030.0",
         "449663446954.0",
         "10006.0",
         "-34.0",
         "-64.0",
         "2780400.0",
         "21.8",
         "5.9",
         "8.8",
         "2.5996",
         "3.9901",
         "23.5",
         "18.034722",
         "33.347222",
         "0.0",
         "64.426444",
         "15057273.0",
         "2690269.0",
         "55032.0",
         "76.52",
         "147.086",
         "79.483",
         "26.6",
         "15.8",
         null,
         null
        ],
        [
         "1",
         "AR",
         "2020-01-02",
         "AR",
         "Argentina",
         "14.0",
         "0.0",
         "17.0",
         "0.0",
         null,
         "44938712.0",
         "19523766.0",
         "20593330.0",
         "3599141.0",
         "41339571.0",
         "16.515",
         "0.825",
         "6718871.0",
         "7045513.0",
         "6430658.0",
         "5777148.0",
         "4507125.0",
         "3911943.0",
         "2914251.0",
         "1817557.0",
         "994030.0",
         "449663446954.0",
         "10006.0",
         "-34.0",
         "-64.0",
         "2780400.0",
         "21.8",
         "5.9",
         "8.8",
         "2.5996",
         "3.9901",
         "23.6875",
         "17.194444",
         "29.819444",
         "0.0",
         "65.073967",
         "15057273.0",
         "2690269.0",
         "55032.0",
         "76.52",
         "147.086",
         "79.483",
         "26.6",
         "15.8",
         null,
         null
        ],
        [
         "2",
         "AR",
         "2020-01-03",
         "AR",
         "Argentina",
         "3.0",
         "0.0",
         "20.0",
         "0.0",
         null,
         "44938712.0",
         "19523766.0",
         "20593330.0",
         "3599141.0",
         "41339571.0",
         "16.515",
         "0.825",
         "6718871.0",
         "7045513.0",
         "6430658.0",
         "5777148.0",
         "4507125.0",
         "3911943.0",
         "2914251.0",
         "1817557.0",
         "994030.0",
         "449663446954.0",
         "10006.0",
         "-34.0",
         "-64.0",
         "2780400.0",
         "21.8",
         "5.9",
         "8.8",
         "2.5996",
         "3.9901",
         "25.194444",
         "17.75",
         "31.506944",
         "0.0",
         "59.669389",
         "15057273.0",
         "2690269.0",
         "55032.0",
         "76.52",
         "147.086",
         "79.483",
         "26.6",
         "15.8",
         null,
         null
        ],
        [
         "3",
         "AR",
         "2020-01-04",
         "AR",
         "Argentina",
         "7.0",
         "0.0",
         "27.0",
         "0.0",
         null,
         "44938712.0",
         "19523766.0",
         "20593330.0",
         "3599141.0",
         "41339571.0",
         "16.515",
         "0.825",
         "6718871.0",
         "7045513.0",
         "6430658.0",
         "5777148.0",
         "4507125.0",
         "3911943.0",
         "2914251.0",
         "1817557.0",
         "994030.0",
         "449663446954.0",
         "10006.0",
         "-34.0",
         "-64.0",
         "2780400.0",
         "21.8",
         "5.9",
         "8.8",
         "2.5996",
         "3.9901",
         "26.305556",
         "17.895833",
         "33.229167",
         "0.0",
         "53.485178",
         "15057273.0",
         "2690269.0",
         "55032.0",
         "76.52",
         "147.086",
         "79.483",
         "26.6",
         "15.8",
         null,
         null
        ],
        [
         "4",
         "AR",
         "2020-01-05",
         "AR",
         "Argentina",
         "5.0",
         "0.0",
         "32.0",
         "0.0",
         null,
         "44938712.0",
         "19523766.0",
         "20593330.0",
         "3599141.0",
         "41339571.0",
         "16.515",
         "0.825",
         "6718871.0",
         "7045513.0",
         "6430658.0",
         "5777148.0",
         "4507125.0",
         "3911943.0",
         "2914251.0",
         "1817557.0",
         "994030.0",
         "449663446954.0",
         "10006.0",
         "-34.0",
         "-64.0",
         "2780400.0",
         "21.8",
         "5.9",
         "8.8",
         "2.5996",
         "3.9901",
         "25.888889",
         "18.0625",
         "33.923611",
         "2.1844",
         "57.126165",
         "15057273.0",
         "2690269.0",
         "55032.0",
         "76.52",
         "147.086",
         "79.483",
         "26.6",
         "15.8",
         null,
         null
        ]
       ],
       "shape": {
        "columns": 50,
        "rows": 5
       }
      },
      "text/html": [
       "<div>\n",
       "<style scoped>\n",
       "    .dataframe tbody tr th:only-of-type {\n",
       "        vertical-align: middle;\n",
       "    }\n",
       "\n",
       "    .dataframe tbody tr th {\n",
       "        vertical-align: top;\n",
       "    }\n",
       "\n",
       "    .dataframe thead th {\n",
       "        text-align: right;\n",
       "    }\n",
       "</style>\n",
       "<table border=\"1\" class=\"dataframe\">\n",
       "  <thead>\n",
       "    <tr style=\"text-align: right;\">\n",
       "      <th></th>\n",
       "      <th>location_key</th>\n",
       "      <th>date</th>\n",
       "      <th>country_code</th>\n",
       "      <th>country_name</th>\n",
       "      <th>new_confirmed</th>\n",
       "      <th>new_deceased</th>\n",
       "      <th>cumulative_confirmed</th>\n",
       "      <th>cumulative_deceased</th>\n",
       "      <th>cumulative_vaccine_doses_administered</th>\n",
       "      <th>population</th>\n",
       "      <th>...</th>\n",
       "      <th>population_largest_city</th>\n",
       "      <th>area_rural_sq_km</th>\n",
       "      <th>area_urban_sq_km</th>\n",
       "      <th>life_expectancy</th>\n",
       "      <th>adult_male_mortality_rate</th>\n",
       "      <th>adult_female_mortality_rate</th>\n",
       "      <th>pollution_mortality_rate</th>\n",
       "      <th>comorbidity_mortality_rate</th>\n",
       "      <th>new_recovered</th>\n",
       "      <th>cumulative_recovered</th>\n",
       "    </tr>\n",
       "  </thead>\n",
       "  <tbody>\n",
       "    <tr>\n",
       "      <th>0</th>\n",
       "      <td>AR</td>\n",
       "      <td>2020-01-01</td>\n",
       "      <td>AR</td>\n",
       "      <td>Argentina</td>\n",
       "      <td>3.0</td>\n",
       "      <td>0.0</td>\n",
       "      <td>3.0</td>\n",
       "      <td>0.0</td>\n",
       "      <td>NaN</td>\n",
       "      <td>44938712.0</td>\n",
       "      <td>...</td>\n",
       "      <td>15057273.0</td>\n",
       "      <td>2690269.0</td>\n",
       "      <td>55032.0</td>\n",
       "      <td>76.52</td>\n",
       "      <td>147.086</td>\n",
       "      <td>79.483</td>\n",
       "      <td>26.6</td>\n",
       "      <td>15.8</td>\n",
       "      <td>NaN</td>\n",
       "      <td>NaN</td>\n",
       "    </tr>\n",
       "    <tr>\n",
       "      <th>1</th>\n",
       "      <td>AR</td>\n",
       "      <td>2020-01-02</td>\n",
       "      <td>AR</td>\n",
       "      <td>Argentina</td>\n",
       "      <td>14.0</td>\n",
       "      <td>0.0</td>\n",
       "      <td>17.0</td>\n",
       "      <td>0.0</td>\n",
       "      <td>NaN</td>\n",
       "      <td>44938712.0</td>\n",
       "      <td>...</td>\n",
       "      <td>15057273.0</td>\n",
       "      <td>2690269.0</td>\n",
       "      <td>55032.0</td>\n",
       "      <td>76.52</td>\n",
       "      <td>147.086</td>\n",
       "      <td>79.483</td>\n",
       "      <td>26.6</td>\n",
       "      <td>15.8</td>\n",
       "      <td>NaN</td>\n",
       "      <td>NaN</td>\n",
       "    </tr>\n",
       "    <tr>\n",
       "      <th>2</th>\n",
       "      <td>AR</td>\n",
       "      <td>2020-01-03</td>\n",
       "      <td>AR</td>\n",
       "      <td>Argentina</td>\n",
       "      <td>3.0</td>\n",
       "      <td>0.0</td>\n",
       "      <td>20.0</td>\n",
       "      <td>0.0</td>\n",
       "      <td>NaN</td>\n",
       "      <td>44938712.0</td>\n",
       "      <td>...</td>\n",
       "      <td>15057273.0</td>\n",
       "      <td>2690269.0</td>\n",
       "      <td>55032.0</td>\n",
       "      <td>76.52</td>\n",
       "      <td>147.086</td>\n",
       "      <td>79.483</td>\n",
       "      <td>26.6</td>\n",
       "      <td>15.8</td>\n",
       "      <td>NaN</td>\n",
       "      <td>NaN</td>\n",
       "    </tr>\n",
       "    <tr>\n",
       "      <th>3</th>\n",
       "      <td>AR</td>\n",
       "      <td>2020-01-04</td>\n",
       "      <td>AR</td>\n",
       "      <td>Argentina</td>\n",
       "      <td>7.0</td>\n",
       "      <td>0.0</td>\n",
       "      <td>27.0</td>\n",
       "      <td>0.0</td>\n",
       "      <td>NaN</td>\n",
       "      <td>44938712.0</td>\n",
       "      <td>...</td>\n",
       "      <td>15057273.0</td>\n",
       "      <td>2690269.0</td>\n",
       "      <td>55032.0</td>\n",
       "      <td>76.52</td>\n",
       "      <td>147.086</td>\n",
       "      <td>79.483</td>\n",
       "      <td>26.6</td>\n",
       "      <td>15.8</td>\n",
       "      <td>NaN</td>\n",
       "      <td>NaN</td>\n",
       "    </tr>\n",
       "    <tr>\n",
       "      <th>4</th>\n",
       "      <td>AR</td>\n",
       "      <td>2020-01-05</td>\n",
       "      <td>AR</td>\n",
       "      <td>Argentina</td>\n",
       "      <td>5.0</td>\n",
       "      <td>0.0</td>\n",
       "      <td>32.0</td>\n",
       "      <td>0.0</td>\n",
       "      <td>NaN</td>\n",
       "      <td>44938712.0</td>\n",
       "      <td>...</td>\n",
       "      <td>15057273.0</td>\n",
       "      <td>2690269.0</td>\n",
       "      <td>55032.0</td>\n",
       "      <td>76.52</td>\n",
       "      <td>147.086</td>\n",
       "      <td>79.483</td>\n",
       "      <td>26.6</td>\n",
       "      <td>15.8</td>\n",
       "      <td>NaN</td>\n",
       "      <td>NaN</td>\n",
       "    </tr>\n",
       "  </tbody>\n",
       "</table>\n",
       "<p>5 rows × 50 columns</p>\n",
       "</div>"
      ],
      "text/plain": [
       "  location_key        date country_code country_name  new_confirmed  \\\n",
       "0           AR  2020-01-01           AR    Argentina            3.0   \n",
       "1           AR  2020-01-02           AR    Argentina           14.0   \n",
       "2           AR  2020-01-03           AR    Argentina            3.0   \n",
       "3           AR  2020-01-04           AR    Argentina            7.0   \n",
       "4           AR  2020-01-05           AR    Argentina            5.0   \n",
       "\n",
       "   new_deceased  cumulative_confirmed  cumulative_deceased  \\\n",
       "0           0.0                   3.0                  0.0   \n",
       "1           0.0                  17.0                  0.0   \n",
       "2           0.0                  20.0                  0.0   \n",
       "3           0.0                  27.0                  0.0   \n",
       "4           0.0                  32.0                  0.0   \n",
       "\n",
       "   cumulative_vaccine_doses_administered  population  ...  \\\n",
       "0                                    NaN  44938712.0  ...   \n",
       "1                                    NaN  44938712.0  ...   \n",
       "2                                    NaN  44938712.0  ...   \n",
       "3                                    NaN  44938712.0  ...   \n",
       "4                                    NaN  44938712.0  ...   \n",
       "\n",
       "   population_largest_city  area_rural_sq_km  area_urban_sq_km  \\\n",
       "0               15057273.0         2690269.0           55032.0   \n",
       "1               15057273.0         2690269.0           55032.0   \n",
       "2               15057273.0         2690269.0           55032.0   \n",
       "3               15057273.0         2690269.0           55032.0   \n",
       "4               15057273.0         2690269.0           55032.0   \n",
       "\n",
       "   life_expectancy  adult_male_mortality_rate  adult_female_mortality_rate  \\\n",
       "0            76.52                    147.086                       79.483   \n",
       "1            76.52                    147.086                       79.483   \n",
       "2            76.52                    147.086                       79.483   \n",
       "3            76.52                    147.086                       79.483   \n",
       "4            76.52                    147.086                       79.483   \n",
       "\n",
       "   pollution_mortality_rate  comorbidity_mortality_rate  new_recovered  \\\n",
       "0                      26.6                        15.8            NaN   \n",
       "1                      26.6                        15.8            NaN   \n",
       "2                      26.6                        15.8            NaN   \n",
       "3                      26.6                        15.8            NaN   \n",
       "4                      26.6                        15.8            NaN   \n",
       "\n",
       "   cumulative_recovered  \n",
       "0                   NaN  \n",
       "1                   NaN  \n",
       "2                   NaN  \n",
       "3                   NaN  \n",
       "4                   NaN  \n",
       "\n",
       "[5 rows x 50 columns]"
      ]
     },
     "execution_count": 32,
     "metadata": {},
     "output_type": "execute_result"
    }
   ],
   "source": [
    "data.head()"
   ]
  },
  {
   "cell_type": "code",
   "execution_count": 33,
   "id": "6ded1660",
   "metadata": {},
   "outputs": [
    {
     "name": "stdout",
     "output_type": "stream",
     "text": [
      "['Argentina' 'Bolivia' 'Brazil' 'Chile' 'Colombia' 'Costa Rica' 'Cuba'\n",
      " 'Dominican Republic' 'Ecuador' 'Guatemala' 'Honduras' 'Mexico'\n",
      " 'Nicaragua' 'Panama' 'Peru' 'Puerto Rico' 'Paraguay' 'El Salvador'\n",
      " 'Uruguay' 'Venezuela']\n"
     ]
    }
   ],
   "source": [
    "# Ver qué valores únicos tiene la columna 'country_name'\n",
    "print(data[\"country_name\"].unique())\n"
   ]
  },
  {
   "cell_type": "code",
   "execution_count": 34,
   "id": "ecfa3bb3",
   "metadata": {},
   "outputs": [
    {
     "data": {
      "text/plain": [
       "(12216057, 50)"
      ]
     },
     "execution_count": 34,
     "metadata": {},
     "output_type": "execute_result"
    }
   ],
   "source": [
    "#cantidad de fila junto la cantidad de columnas\n",
    "np.shape(data) "
   ]
  },
  {
   "cell_type": "code",
   "execution_count": 35,
   "id": "4254190f",
   "metadata": {},
   "outputs": [
    {
     "name": "stdout",
     "output_type": "stream",
     "text": [
      "Diccionario de datos\n",
      "\n",
      "\n",
      "\n",
      "\n",
      "Name\n",
      "\tType\n",
      "\tDescription\n",
      "\tExample\n",
      "\tdate\n",
      "\tstring\n",
      "\tISO 8601 date (YYYY-MM-DD) of the datapoint\n",
      "\t3/30/2020\n",
      "\tpopulation\n",
      "\tinteger\n",
      "\tTotal count of humans\n",
      "\t51606633\n",
      "\tpopulation_male\n",
      "\tinteger\n",
      "\tTotal count of males\n",
      "\t25846211\n",
      "\tpopulation_female\n",
      "\tinteger\n",
      "\tTotal count of females\n",
      "\t25760422\n",
      "\trural_population\n",
      "\tinteger\n",
      "\tPopulation in a rural area\n",
      "\t9568386\n",
      "\turban_population\n",
      "\tinteger\n",
      "\tPopulation in an urban area\n",
      "\t42038247\n",
      "\tpopulation_density\n",
      "\tdouble [persons per squared kilometer]\n",
      "\tPopulation per squared kilometer of land area\n",
      "\t529.3585\n",
      "\thuman_development_index\n",
      "\tdouble [0-1]\n",
      "\tComposite index of life expectancy, education, and per capita income indicators\n",
      "\t0.903\n",
      "\tpopulation_age_00_To_79\n",
      "\tinteger\n",
      "\tEstimated population between the ages of ${lower} and ${upper}, both inclusive\n",
      "\t42038247\n",
      "\tpopulation_age_80_and_older\n",
      "\tinteger\n",
      "\tEstimated population over the age of 80\n",
      "\t477081\n",
      "\tgdp\n",
      "\tinteger [USD]\n",
      "\tGross domestic product; monetary value of all finished goods and services\n",
      "\t24450604878\n",
      "\tgdp_per_capita\n",
      "\tinteger [USD]\n",
      "\tGross domestic product divided by total population\n",
      "\t1148\n",
      "\tnew_confirmed1\n",
      "\tinteger\n",
      "\tCount of new cases confirmed after positive test on this date\n",
      "\t34\n",
      "\tnew_deceased1\n",
      "\tinteger\n",
      "\tCount of new deaths from a positive COVID-19 case on this date\n",
      "\t2\n",
      "\tcumulative_confirmed3\n",
      "\tinteger\n",
      "\tCumulative sum of cases confirmed after positive test to date\n",
      "\t6447\n",
      "\tcumulative_deceased3\n",
      "\tinteger\n",
      "\tCumulative sum of deaths from a positive COVID-19 case to date\n",
      "\t133\n",
      "\tnew_recovered1\n",
      "\tinteger\n",
      "\tCount of new recoveries from a positive COVID-19 case on this date\n",
      "\t13\n",
      "\tcumulative_recovered3\n",
      "\tinteger\n",
      "\tCumulative sum of recoveries from a positive COVID-19 case to date\n",
      "\t133\n",
      "\tatitude\n",
      "\tdouble\n",
      "\tFloating point representing the geographic coordinate\n",
      "\t30.9756\n",
      "\tlongitude\n",
      "\tdouble\n",
      "\tFloating point representing the geographic coordinate\n",
      "\t112.2707\n",
      "\tarea\n",
      "\tinteger [squared kilometers]\n",
      "\tArea encompassing this region\n",
      "\t3729\n",
      "\t\"area_rural_sq_km\",\n",
      "\tinteger [squared kilometers]\n",
      "\tArea encompassing rural land in this region\n",
      "\t3729\n",
      "\t\"area_urban_sq_km\",\n",
      "\tinteger [squared kilometers]\n",
      "\tArea encompassing urban land this region\n",
      "\t3729\n",
      "\tlife_expectancy\n",
      "\tdouble [years]\n",
      "\tAverage years that an individual is expected to live\n",
      "\t75.722\n",
      "\tsmoking_prevalence\n",
      "\tdouble [%]\n",
      "\tPercentage of smokers in population\n",
      "\t16.9\n",
      "\tdiabetes_prevalence\n",
      "\tdouble [%]\n",
      "\tPercentage of persons with diabetes in population\n",
      "\t13.3\n",
      "\tinfant_mortality_rate\n",
      "\tdouble\n",
      "\tInfant mortality rate (per 1,000 live births)\n",
      "\t9.8\n",
      "\tadult_male_mortality_rate\n",
      "\tdouble\n",
      "\tMortality rate, adult, male (per 1,000 male adults)\n",
      "\t143.719\n",
      "\tadult_female_mortality_rate\n",
      "\tdouble\n",
      "\tMortality rate, adult, female (per 1,000 male adults)\n",
      "\t98.803\n",
      "\tpollution_mortality_rate\n",
      "\tdouble\n",
      "\tMortality rate attributed to household and ambient air pollution, age-standardized (per 100,000 population)\n",
      "\t13.3\n",
      "\tcomorbidity_mortality_rate\n",
      "\tdouble [%]\n",
      "\tMortality from cardiovascular disease, cancer, diabetes or cardiorespiratory disease between exact ages 30 and 70\n",
      "\t16.6\n",
      "\tnurses\n",
      "\tdouble\n",
      "\tNurses and midwives (per 1,000 people)\n",
      "\t5.8974\n",
      "\tphysicians\n",
      "\tdouble\n",
      "\tPhysicians (per 1,000 people)\n",
      "\t1.609\n",
      "\tkey\n",
      "\tstring\n",
      "\tUnique string identifying the region\n",
      "\tUS_CA_06001\n",
      "\tcountry_code\n",
      "\tstring\n",
      "\tISO 3166-1 alphanumeric 2-letter code of the country\n",
      "\tUS\n",
      "\tcountry_name\n",
      "\tstring\n",
      "\tAmerican English name of the country, subject to change\n",
      "\tUnited States of America\n",
      "\tcumulative_vaccine_doses_administered**\n",
      "\tinteger\n",
      "\tCumulative sum of vaccine doses administered to persons\n",
      "\t923449\n",
      "\taverage_temperature\n",
      "\tdouble [celsius]\n",
      "\tRecorded hourly average temperature\n",
      "\t11.22\n",
      "\tminimum_temperature\n",
      "\tdouble [celsius]\n",
      "\tRecorded hourly minimum temperature\n",
      "\t1.74\n",
      "\tmaximum_temperature\n",
      "\tdouble [celsius]\n",
      "\tRecorded hourly maximum temperature\n",
      "\t19.42\n",
      "\trainfall\n",
      "\tdouble [millimeters]\n",
      "\tRainfall during the entire day\n",
      "\t51\n",
      "\trelative_humidity\n",
      "\tdouble [%]\n",
      "\tThe amount of water vapor present in air expressed as a percentage of the amount needed for saturation at the same temperature\n",
      "\t43.09\n",
      "\tpopulation_largest_city\n",
      "\tinteger\n",
      "\tPopulation in the largest city of the country\n",
      "\t91256325\n"
     ]
    }
   ],
   "source": [
    "# 2. Leer el archivo readme.txt para revisar las columnas\n",
    "with open(\"c:\\\\Users\\\\benav\\\\Downloads\\\\Readme.txt\", encoding=\"utf-8\") as archivo: #abre el archivo leer el caracter \"utf-8\" es el estándar para texto con acentos, ñ, etc.\n",
    "    contenido = archivo.read() #Lee todo el contenido del archivo como una sola cadena de texto y lo guarda en la variable contenido\n",
    "    print(contenido) #lo imprime \n"
   ]
  },
  {
   "cell_type": "code",
   "execution_count": 36,
   "id": "811f376a",
   "metadata": {},
   "outputs": [
    {
     "name": "stdout",
     "output_type": "stream",
     "text": [
      "country_name\n",
      "Brazil       5565456\n",
      "Mexico       2475518\n",
      "Peru         1883891\n",
      "Colombia     1145596\n",
      "Argentina     540095\n",
      "Chile         359733\n",
      "Name: count, dtype: int64\n"
     ]
    }
   ],
   "source": [
    "#Filtrar países\n",
    "paises = [\"Colombia\", \"Argentina\", \"Chile\", \"Mexico\", \"Peru\", \"Brazil\"]\n",
    "data_latinoamerica = data[data[\"country_name\"].isin(paises)]\n",
    "\n",
    "\n",
    "#verificar si estan los paises filtrados\n",
    "print(data_latinoamerica[\"country_name\"].value_counts())\n"
   ]
  },
  {
   "cell_type": "code",
   "execution_count": 37,
   "id": "41653b58",
   "metadata": {},
   "outputs": [],
   "source": [
    "#filtrar por fecha a mayor de 2021-01-01\n",
    "filtrado_fecha = data_latinoamerica[data_latinoamerica[\"date\"] >= \"2021-01-01\"] \n"
   ]
  },
  {
   "cell_type": "markdown",
   "id": "3e52788f",
   "metadata": {},
   "source": [
    "Eliminar valores vacios pero no NaN solo vacios en filas y columnas"
   ]
  },
  {
   "cell_type": "code",
   "execution_count": 38,
   "id": "e66754da",
   "metadata": {},
   "outputs": [],
   "source": [
    "filtrado_fecha = filtrado_fecha.dropna(axis=0,how= \"all\") #elimina filas(axis=0) completas(how=all) que están vacías.\n",
    "filtrado_fecha = filtrado_fecha.dropna(axis=1,how= \"all\") # eliminar columnas(axis=1) completas(how=all) que están vacías. \n",
    "data_latinoamerica = data_latinoamerica.dropna(axis=0,how= \"all\")  #elimina solo lo que este vacio\n",
    "data_latinoamerica = data_latinoamerica.dropna(axis=1,how= \"all\")  #elimina solo lo que este vacio"
   ]
  },
  {
   "cell_type": "code",
   "execution_count": 39,
   "id": "cace2531",
   "metadata": {},
   "outputs": [
    {
     "name": "stdout",
     "output_type": "stream",
     "text": [
      "Index(['location_key', 'date', 'country_code', 'country_name', 'new_confirmed',\n",
      "       'new_deceased', 'cumulative_confirmed', 'cumulative_deceased',\n",
      "       'cumulative_vaccine_doses_administered', 'population',\n",
      "       'population_male', 'population_female', 'population_rural',\n",
      "       'population_urban', 'population_density', 'human_development_index',\n",
      "       'population_age_00_09', 'population_age_10_19', 'population_age_20_29',\n",
      "       'population_age_30_39', 'population_age_40_49', 'population_age_50_59',\n",
      "       'population_age_60_69', 'population_age_70_79',\n",
      "       'population_age_80_and_older', 'gdp_usd', 'gdp_per_capita_usd',\n",
      "       'latitude', 'longitude', 'area_sq_km', 'smoking_prevalence',\n",
      "       'diabetes_prevalence', 'infant_mortality_rate', 'nurses_per_1000',\n",
      "       'physicians_per_1000', 'average_temperature_celsius',\n",
      "       'minimum_temperature_celsius', 'maximum_temperature_celsius',\n",
      "       'rainfall_mm', 'relative_humidity', 'population_largest_city',\n",
      "       'area_rural_sq_km', 'area_urban_sq_km', 'life_expectancy',\n",
      "       'adult_male_mortality_rate', 'adult_female_mortality_rate',\n",
      "       'pollution_mortality_rate', 'comorbidity_mortality_rate',\n",
      "       'new_recovered', 'cumulative_recovered'],\n",
      "      dtype='object')\n"
     ]
    }
   ],
   "source": [
    "print(data_latinoamerica.columns) # miramos las columnas que tiene para saber cual es importante"
   ]
  },
  {
   "cell_type": "code",
   "execution_count": 40,
   "id": "1f43bea7",
   "metadata": {},
   "outputs": [
    {
     "name": "stdout",
     "output_type": "stream",
     "text": [
      "<class 'pandas.core.series.Series'>\n",
      "Index: 11970289 entries, 0 to 12136776\n",
      "Series name: date\n",
      "Non-Null Count     Dtype \n",
      "--------------     ----- \n",
      "11970289 non-null  object\n",
      "dtypes: object(1)\n",
      "memory usage: 182.7+ MB\n",
      "None\n",
      "2020-01-01\n",
      "2022-09-17\n"
     ]
    }
   ],
   "source": [
    "print(data_latinoamerica[\"date\"].info()) #imprimir la información sobre la columna de fechas\n",
    "print(data_latinoamerica[\"date\"].min()) #saber la fecha minima \n",
    "print(data_latinoamerica[\"date\"].max()) #saber la fecha mas alta"
   ]
  },
  {
   "cell_type": "code",
   "execution_count": 41,
   "id": "04a9f167",
   "metadata": {},
   "outputs": [
    {
     "name": "stdout",
     "output_type": "stream",
     "text": [
      "         location_key        date country_code country_name  new_confirmed  \\\n",
      "0                  AR  2020-01-01           AR    Argentina            3.0   \n",
      "1                  AR  2020-01-02           AR    Argentina           14.0   \n",
      "2                  AR  2020-01-03           AR    Argentina            3.0   \n",
      "3                  AR  2020-01-04           AR    Argentina            7.0   \n",
      "4                  AR  2020-01-05           AR    Argentina            5.0   \n",
      "...               ...         ...          ...          ...            ...   \n",
      "12136772  PE_UCA_0401  2022-09-13           PE         Peru            NaN   \n",
      "12136773  PE_UCA_0401  2022-09-14           PE         Peru            NaN   \n",
      "12136774  PE_UCA_0401  2022-09-15           PE         Peru            NaN   \n",
      "12136775  PE_UCA_0401  2022-09-16           PE         Peru            NaN   \n",
      "12136776  PE_UCA_0401  2022-09-17           PE         Peru            NaN   \n",
      "\n",
      "          new_deceased  cumulative_confirmed  cumulative_deceased  \\\n",
      "0                  0.0                   3.0                  0.0   \n",
      "1                  0.0                  17.0                  0.0   \n",
      "2                  0.0                  20.0                  0.0   \n",
      "3                  0.0                  27.0                  0.0   \n",
      "4                  0.0                  32.0                  0.0   \n",
      "...                ...                   ...                  ...   \n",
      "12136772           NaN                   NaN                  NaN   \n",
      "12136773           NaN                   NaN                  NaN   \n",
      "12136774           NaN                   NaN                  NaN   \n",
      "12136775           NaN                   NaN                  NaN   \n",
      "12136776           NaN                   NaN                  NaN   \n",
      "\n",
      "          cumulative_vaccine_doses_administered  population  ...  \\\n",
      "0                                           NaN  44938712.0  ...   \n",
      "1                                           NaN  44938712.0  ...   \n",
      "2                                           NaN  44938712.0  ...   \n",
      "3                                           NaN  44938712.0  ...   \n",
      "4                                           NaN  44938712.0  ...   \n",
      "...                                         ...         ...  ...   \n",
      "12136772                                    NaN      2860.0  ...   \n",
      "12136773                                    NaN      2860.0  ...   \n",
      "12136774                                    NaN      2860.0  ...   \n",
      "12136775                                    NaN      2860.0  ...   \n",
      "12136776                                    NaN      2860.0  ...   \n",
      "\n",
      "          population_largest_city  area_rural_sq_km  area_urban_sq_km  \\\n",
      "0                      15057273.0         2690269.0           55032.0   \n",
      "1                      15057273.0         2690269.0           55032.0   \n",
      "2                      15057273.0         2690269.0           55032.0   \n",
      "3                      15057273.0         2690269.0           55032.0   \n",
      "4                      15057273.0         2690269.0           55032.0   \n",
      "...                           ...               ...               ...   \n",
      "12136772                      NaN               NaN               NaN   \n",
      "12136773                      NaN               NaN               NaN   \n",
      "12136774                      NaN               NaN               NaN   \n",
      "12136775                      NaN               NaN               NaN   \n",
      "12136776                      NaN               NaN               NaN   \n",
      "\n",
      "          life_expectancy  adult_male_mortality_rate  \\\n",
      "0                   76.52                    147.086   \n",
      "1                   76.52                    147.086   \n",
      "2                   76.52                    147.086   \n",
      "3                   76.52                    147.086   \n",
      "4                   76.52                    147.086   \n",
      "...                   ...                        ...   \n",
      "12136772              NaN                        NaN   \n",
      "12136773              NaN                        NaN   \n",
      "12136774              NaN                        NaN   \n",
      "12136775              NaN                        NaN   \n",
      "12136776              NaN                        NaN   \n",
      "\n",
      "          adult_female_mortality_rate  pollution_mortality_rate  \\\n",
      "0                              79.483                      26.6   \n",
      "1                              79.483                      26.6   \n",
      "2                              79.483                      26.6   \n",
      "3                              79.483                      26.6   \n",
      "4                              79.483                      26.6   \n",
      "...                               ...                       ...   \n",
      "12136772                          NaN                       NaN   \n",
      "12136773                          NaN                       NaN   \n",
      "12136774                          NaN                       NaN   \n",
      "12136775                          NaN                       NaN   \n",
      "12136776                          NaN                       NaN   \n",
      "\n",
      "          comorbidity_mortality_rate  new_recovered  cumulative_recovered  \n",
      "0                               15.8            NaN                   NaN  \n",
      "1                               15.8            NaN                   NaN  \n",
      "2                               15.8            NaN                   NaN  \n",
      "3                               15.8            NaN                   NaN  \n",
      "4                               15.8            NaN                   NaN  \n",
      "...                              ...            ...                   ...  \n",
      "12136772                         NaN            NaN                   NaN  \n",
      "12136773                         NaN            NaN                   NaN  \n",
      "12136774                         NaN            NaN                   NaN  \n",
      "12136775                         NaN            NaN                   NaN  \n",
      "12136776                         NaN            NaN                   NaN  \n",
      "\n",
      "[11970289 rows x 50 columns]\n"
     ]
    }
   ],
   "source": [
    "print(data_latinoamerica) #imprime los datos de data_latinoamerica"
   ]
  },
  {
   "cell_type": "code",
   "execution_count": 42,
   "id": "02206d58",
   "metadata": {},
   "outputs": [
    {
     "data": {
      "application/vnd.microsoft.datawrangler.viewer.v0+json": {
       "columns": [
        {
         "name": "index",
         "rawType": "object",
         "type": "string"
        },
        {
         "name": "0",
         "rawType": "int64",
         "type": "integer"
        }
       ],
       "ref": "c8d13ac9-9063-4bcb-acc1-612a3ea410c7",
       "rows": [
        [
         "location_key",
         "0"
        ],
        [
         "date",
         "0"
        ],
        [
         "country_code",
         "0"
        ],
        [
         "country_name",
         "0"
        ],
        [
         "new_confirmed",
         "5620283"
        ],
        [
         "new_deceased",
         "5661788"
        ],
        [
         "cumulative_confirmed",
         "5619937"
        ],
        [
         "cumulative_deceased",
         "5661426"
        ],
        [
         "cumulative_vaccine_doses_administered",
         "11706131"
        ],
        [
         "population",
         "521266"
        ],
        [
         "population_male",
         "1122803"
        ],
        [
         "population_female",
         "1122803"
        ],
        [
         "population_rural",
         "11964343"
        ],
        [
         "population_urban",
         "11964343"
        ],
        [
         "population_density",
         "11964343"
        ],
        [
         "human_development_index",
         "6472221"
        ],
        [
         "population_age_00_09",
         "1465689"
        ],
        [
         "population_age_10_19",
         "1465689"
        ],
        [
         "population_age_20_29",
         "1465689"
        ],
        [
         "population_age_30_39",
         "1465689"
        ],
        [
         "population_age_40_49",
         "1465689"
        ],
        [
         "population_age_50_59",
         "1465689"
        ],
        [
         "population_age_60_69",
         "1465689"
        ],
        [
         "population_age_70_79",
         "1465689"
        ],
        [
         "population_age_80_and_older",
         "1465689"
        ],
        [
         "gdp_usd",
         "11963352"
        ],
        [
         "gdp_per_capita_usd",
         "11962361"
        ],
        [
         "latitude",
         "422166"
        ],
        [
         "longitude",
         "422166"
        ],
        [
         "area_sq_km",
         "1871999"
        ],
        [
         "smoking_prevalence",
         "11964343"
        ],
        [
         "diabetes_prevalence",
         "11964343"
        ],
        [
         "infant_mortality_rate",
         "11964343"
        ],
        [
         "nurses_per_1000",
         "11964343"
        ],
        [
         "physicians_per_1000",
         "11964343"
        ],
        [
         "average_temperature_celsius",
         "529625"
        ],
        [
         "minimum_temperature_celsius",
         "529700"
        ],
        [
         "maximum_temperature_celsius",
         "529736"
        ],
        [
         "rainfall_mm",
         "603612"
        ],
        [
         "relative_humidity",
         "530186"
        ],
        [
         "population_largest_city",
         "11964343"
        ],
        [
         "area_rural_sq_km",
         "11964343"
        ],
        [
         "area_urban_sq_km",
         "11964343"
        ],
        [
         "life_expectancy",
         "11964343"
        ],
        [
         "adult_male_mortality_rate",
         "11964343"
        ],
        [
         "adult_female_mortality_rate",
         "11964343"
        ],
        [
         "pollution_mortality_rate",
         "11964343"
        ],
        [
         "comorbidity_mortality_rate",
         "11964343"
        ],
        [
         "new_recovered",
         "9873535"
        ],
        [
         "cumulative_recovered",
         "9874368"
        ]
       ],
       "shape": {
        "columns": 1,
        "rows": 50
       }
      },
      "text/plain": [
       "location_key                                    0\n",
       "date                                            0\n",
       "country_code                                    0\n",
       "country_name                                    0\n",
       "new_confirmed                             5620283\n",
       "new_deceased                              5661788\n",
       "cumulative_confirmed                      5619937\n",
       "cumulative_deceased                       5661426\n",
       "cumulative_vaccine_doses_administered    11706131\n",
       "population                                 521266\n",
       "population_male                           1122803\n",
       "population_female                         1122803\n",
       "population_rural                         11964343\n",
       "population_urban                         11964343\n",
       "population_density                       11964343\n",
       "human_development_index                   6472221\n",
       "population_age_00_09                      1465689\n",
       "population_age_10_19                      1465689\n",
       "population_age_20_29                      1465689\n",
       "population_age_30_39                      1465689\n",
       "population_age_40_49                      1465689\n",
       "population_age_50_59                      1465689\n",
       "population_age_60_69                      1465689\n",
       "population_age_70_79                      1465689\n",
       "population_age_80_and_older               1465689\n",
       "gdp_usd                                  11963352\n",
       "gdp_per_capita_usd                       11962361\n",
       "latitude                                   422166\n",
       "longitude                                  422166\n",
       "area_sq_km                                1871999\n",
       "smoking_prevalence                       11964343\n",
       "diabetes_prevalence                      11964343\n",
       "infant_mortality_rate                    11964343\n",
       "nurses_per_1000                          11964343\n",
       "physicians_per_1000                      11964343\n",
       "average_temperature_celsius                529625\n",
       "minimum_temperature_celsius                529700\n",
       "maximum_temperature_celsius                529736\n",
       "rainfall_mm                                603612\n",
       "relative_humidity                          530186\n",
       "population_largest_city                  11964343\n",
       "area_rural_sq_km                         11964343\n",
       "area_urban_sq_km                         11964343\n",
       "life_expectancy                          11964343\n",
       "adult_male_mortality_rate                11964343\n",
       "adult_female_mortality_rate              11964343\n",
       "pollution_mortality_rate                 11964343\n",
       "comorbidity_mortality_rate               11964343\n",
       "new_recovered                             9873535\n",
       "cumulative_recovered                      9874368\n",
       "dtype: int64"
      ]
     },
     "execution_count": 42,
     "metadata": {},
     "output_type": "execute_result"
    }
   ],
   "source": [
    "data_latinoamerica.isnull().sum() #sumar los valores nulos de data"
   ]
  },
  {
   "cell_type": "markdown",
   "id": "f072fa25",
   "metadata": {},
   "source": [
    "Eliminar valores NaN"
   ]
  },
  {
   "cell_type": "code",
   "execution_count": 43,
   "id": "37ed9085",
   "metadata": {},
   "outputs": [],
   "source": [
    "data_latinoamerica_limpio = data_latinoamerica = data_latinoamerica.dropna()  #Elimina todas las filas del DataFrame data_latinoamerica que contengan al menos un valor faltante (NaN).\n",
    "data_latinoamerica_limpio = data_latinoamerica.dropna(axis=1)  #Guarda el resultado en la variable y lo mismo de arriba pero se aplica a columnas\n",
    "\n",
    "columnas_importantes = ['new_confirmed', 'new_deceased', 'cumulative_confirmed', 'cumulative_deceased'] #define una variable\n",
    "data_latinoamerica_limpio = data_latinoamerica.dropna(subset=columnas_importantes) ## Eliminamos del DataFrame todas las filas que tengan valores faltantes (NaN) en cualquiera de esas columnas importantes\n"
   ]
  },
  {
   "cell_type": "code",
   "execution_count": 44,
   "id": "f261e8b4",
   "metadata": {},
   "outputs": [
    {
     "data": {
      "application/vnd.microsoft.datawrangler.viewer.v0+json": {
       "columns": [
        {
         "name": "index",
         "rawType": "object",
         "type": "string"
        },
        {
         "name": "0",
         "rawType": "int64",
         "type": "integer"
        }
       ],
       "ref": "10f35bf9-a2ba-46fe-b4b8-709291b24816",
       "rows": [
        [
         "location_key",
         "0"
        ],
        [
         "date",
         "0"
        ],
        [
         "country_code",
         "0"
        ],
        [
         "country_name",
         "0"
        ],
        [
         "new_confirmed",
         "0"
        ],
        [
         "new_deceased",
         "0"
        ],
        [
         "cumulative_confirmed",
         "0"
        ],
        [
         "cumulative_deceased",
         "0"
        ],
        [
         "cumulative_vaccine_doses_administered",
         "0"
        ],
        [
         "population",
         "0"
        ],
        [
         "population_male",
         "0"
        ],
        [
         "population_female",
         "0"
        ],
        [
         "population_rural",
         "0"
        ],
        [
         "population_urban",
         "0"
        ],
        [
         "population_density",
         "0"
        ],
        [
         "human_development_index",
         "0"
        ],
        [
         "population_age_00_09",
         "0"
        ],
        [
         "population_age_10_19",
         "0"
        ],
        [
         "population_age_20_29",
         "0"
        ],
        [
         "population_age_30_39",
         "0"
        ],
        [
         "population_age_40_49",
         "0"
        ],
        [
         "population_age_50_59",
         "0"
        ],
        [
         "population_age_60_69",
         "0"
        ],
        [
         "population_age_70_79",
         "0"
        ],
        [
         "population_age_80_and_older",
         "0"
        ],
        [
         "gdp_usd",
         "0"
        ],
        [
         "gdp_per_capita_usd",
         "0"
        ],
        [
         "latitude",
         "0"
        ],
        [
         "longitude",
         "0"
        ],
        [
         "area_sq_km",
         "0"
        ],
        [
         "smoking_prevalence",
         "0"
        ],
        [
         "diabetes_prevalence",
         "0"
        ],
        [
         "infant_mortality_rate",
         "0"
        ],
        [
         "nurses_per_1000",
         "0"
        ],
        [
         "physicians_per_1000",
         "0"
        ],
        [
         "average_temperature_celsius",
         "0"
        ],
        [
         "minimum_temperature_celsius",
         "0"
        ],
        [
         "maximum_temperature_celsius",
         "0"
        ],
        [
         "rainfall_mm",
         "0"
        ],
        [
         "relative_humidity",
         "0"
        ],
        [
         "population_largest_city",
         "0"
        ],
        [
         "area_rural_sq_km",
         "0"
        ],
        [
         "area_urban_sq_km",
         "0"
        ],
        [
         "life_expectancy",
         "0"
        ],
        [
         "adult_male_mortality_rate",
         "0"
        ],
        [
         "adult_female_mortality_rate",
         "0"
        ],
        [
         "pollution_mortality_rate",
         "0"
        ],
        [
         "comorbidity_mortality_rate",
         "0"
        ],
        [
         "new_recovered",
         "0"
        ],
        [
         "cumulative_recovered",
         "0"
        ]
       ],
       "shape": {
        "columns": 1,
        "rows": 50
       }
      },
      "text/plain": [
       "location_key                             0\n",
       "date                                     0\n",
       "country_code                             0\n",
       "country_name                             0\n",
       "new_confirmed                            0\n",
       "new_deceased                             0\n",
       "cumulative_confirmed                     0\n",
       "cumulative_deceased                      0\n",
       "cumulative_vaccine_doses_administered    0\n",
       "population                               0\n",
       "population_male                          0\n",
       "population_female                        0\n",
       "population_rural                         0\n",
       "population_urban                         0\n",
       "population_density                       0\n",
       "human_development_index                  0\n",
       "population_age_00_09                     0\n",
       "population_age_10_19                     0\n",
       "population_age_20_29                     0\n",
       "population_age_30_39                     0\n",
       "population_age_40_49                     0\n",
       "population_age_50_59                     0\n",
       "population_age_60_69                     0\n",
       "population_age_70_79                     0\n",
       "population_age_80_and_older              0\n",
       "gdp_usd                                  0\n",
       "gdp_per_capita_usd                       0\n",
       "latitude                                 0\n",
       "longitude                                0\n",
       "area_sq_km                               0\n",
       "smoking_prevalence                       0\n",
       "diabetes_prevalence                      0\n",
       "infant_mortality_rate                    0\n",
       "nurses_per_1000                          0\n",
       "physicians_per_1000                      0\n",
       "average_temperature_celsius              0\n",
       "minimum_temperature_celsius              0\n",
       "maximum_temperature_celsius              0\n",
       "rainfall_mm                              0\n",
       "relative_humidity                        0\n",
       "population_largest_city                  0\n",
       "area_rural_sq_km                         0\n",
       "area_urban_sq_km                         0\n",
       "life_expectancy                          0\n",
       "adult_male_mortality_rate                0\n",
       "adult_female_mortality_rate              0\n",
       "pollution_mortality_rate                 0\n",
       "comorbidity_mortality_rate               0\n",
       "new_recovered                            0\n",
       "cumulative_recovered                     0\n",
       "dtype: int64"
      ]
     },
     "execution_count": 44,
     "metadata": {},
     "output_type": "execute_result"
    }
   ],
   "source": [
    "data_latinoamerica_limpio.isnull().sum() #sumar los valores nulos \n"
   ]
  },
  {
   "cell_type": "code",
   "execution_count": 45,
   "id": "49ac7684",
   "metadata": {},
   "outputs": [
    {
     "name": "stdout",
     "output_type": "stream",
     "text": [
      "(842, 50)\n"
     ]
    }
   ],
   "source": [
    "print(data_latinoamerica_limpio.shape)"
   ]
  },
  {
   "cell_type": "markdown",
   "id": "4c6cf989",
   "metadata": {},
   "source": [
    "convertir fechas, podrían haberse generado nuevos valores nulos"
   ]
  },
  {
   "cell_type": "code",
   "execution_count": 46,
   "id": "a6ff1db9",
   "metadata": {},
   "outputs": [
    {
     "name": "stderr",
     "output_type": "stream",
     "text": [
      "C:\\Users\\benav\\AppData\\Local\\Temp\\ipykernel_15328\\2910513933.py:8: FutureWarning: DataFrame.fillna with 'method' is deprecated and will raise in a future version. Use obj.ffill() or obj.bfill() instead.\n",
      "  data.fillna(method='ffill', inplace=True) #método 'ffill' significa \"relleno hacia adelante inplace=True significa que el cambio se realiza directamente sobre el DataFrame\n",
      "C:\\Users\\benav\\AppData\\Local\\Temp\\ipykernel_15328\\2910513933.py:9: FutureWarning: DataFrame.fillna with 'method' is deprecated and will raise in a future version. Use obj.ffill() or obj.bfill() instead.\n",
      "  data.fillna(method='bfill', inplace=True)\n"
     ]
    }
   ],
   "source": [
    "# Convertir 'date' a tipo datetime\n",
    "data['date'] = pd.to_datetime(data['date'], errors='coerce')  #errors lo convierte Nat si no e puede convertir\n",
    "\n",
    "# Rellenar valores faltantes con la media de cada columna numérica\n",
    "data.fillna(data.mean(numeric_only=True), inplace=True) #rellena con el valor medio\n",
    "\n",
    "# Rellenar valores restantes con datos anteriores o siguientes\n",
    "data.fillna(method='ffill', inplace=True) #método 'ffill' significa \"relleno hacia adelante inplace=True significa que el cambio se realiza directamente sobre el DataFrame\n",
    "data.fillna(method='bfill', inplace=True)\n",
    "\n"
   ]
  },
  {
   "cell_type": "code",
   "execution_count": 47,
   "id": "4c4fd493",
   "metadata": {},
   "outputs": [],
   "source": [
    "# filtra el dataset para quedarse solo con los datos de los 6 países latinoamericanos objetivo y guarda el resultado en df_export\n",
    "data_latinoamerica_final =  data_latinoamerica = data[data[\"country_name\"].isin(paises)]"
   ]
  },
  {
   "cell_type": "code",
   "execution_count": 48,
   "id": "2e4452b0",
   "metadata": {},
   "outputs": [
    {
     "name": "stdout",
     "output_type": "stream",
     "text": [
      "['Argentina' 'Brazil' 'Chile' 'Colombia' 'Mexico' 'Peru']\n"
     ]
    }
   ],
   "source": [
    "# Verificar los valores únicos en la columna 'location_key' después del filtro\n",
    "print(data_latinoamerica_final['country_name'].unique())\n"
   ]
  },
  {
   "cell_type": "code",
   "execution_count": 49,
   "id": "681ad95a",
   "metadata": {},
   "outputs": [
    {
     "name": "stdout",
     "output_type": "stream",
     "text": [
      "Index(['location_key', 'date', 'country_code', 'country_name', 'new_confirmed',\n",
      "       'new_deceased', 'cumulative_confirmed', 'cumulative_deceased',\n",
      "       'cumulative_vaccine_doses_administered', 'population',\n",
      "       'population_male', 'population_female', 'population_rural',\n",
      "       'population_urban', 'population_density', 'human_development_index',\n",
      "       'population_age_00_09', 'population_age_10_19', 'population_age_20_29',\n",
      "       'population_age_30_39', 'population_age_40_49', 'population_age_50_59',\n",
      "       'population_age_60_69', 'population_age_70_79',\n",
      "       'population_age_80_and_older', 'gdp_usd', 'gdp_per_capita_usd',\n",
      "       'latitude', 'longitude', 'area_sq_km', 'smoking_prevalence',\n",
      "       'diabetes_prevalence', 'infant_mortality_rate', 'nurses_per_1000',\n",
      "       'physicians_per_1000', 'average_temperature_celsius',\n",
      "       'minimum_temperature_celsius', 'maximum_temperature_celsius',\n",
      "       'rainfall_mm', 'relative_humidity', 'population_largest_city',\n",
      "       'area_rural_sq_km', 'area_urban_sq_km', 'life_expectancy',\n",
      "       'adult_male_mortality_rate', 'adult_female_mortality_rate',\n",
      "       'pollution_mortality_rate', 'comorbidity_mortality_rate',\n",
      "       'new_recovered', 'cumulative_recovered'],\n",
      "      dtype='object')\n"
     ]
    }
   ],
   "source": [
    "print(data_latinoamerica_final.columns) #imprime las columns de data_latinoamerica"
   ]
  },
  {
   "cell_type": "markdown",
   "id": "db404f25",
   "metadata": {},
   "source": [
    "verificar que no este numeros negativos"
   ]
  },
  {
   "cell_type": "code",
   "execution_count": 56,
   "id": "79a258c1",
   "metadata": {},
   "outputs": [
    {
     "name": "stdout",
     "output_type": "stream",
     "text": [
      "new_confirmed: 0 valores negativos\n",
      "new_deceased: 0 valores negativos\n",
      "cumulative_confirmed: 0 valores negativos\n",
      "cumulative_deceased: 0 valores negativos\n",
      "new_recovered: 0 valores negativos\n",
      "cumulative_recovered: 0 valores negativos\n",
      "cumulative_vaccine_doses_administered: 0 valores negativos\n"
     ]
    }
   ],
   "source": [
    "# Columnas numéricas que queremos verificar\n",
    "columnas_numericas_covid = [\n",
    "    'new_confirmed', 'new_deceased', 'cumulative_confirmed',\n",
    "    'cumulative_deceased', 'new_recovered', 'cumulative_recovered',\n",
    "    'cumulative_vaccine_doses_administered'\n",
    "]\n",
    "\n",
    "# Filtrar datos que no tienen valores negativos en esas columnas\n",
    "data_latinoamerica_limpio = data_latinoamerica_final [\n",
    "    (data_latinoamerica_final [columnas_numericas_covid] >= 0).all(axis=1)\n",
    "]\n",
    "\n",
    "# Verificación: contar cuántos valores negativos quedan por columna\n",
    "for columna in columnas_numericas_covid:\n",
    "    negativos = (data_latinoamerica_limpio[columna] < 0).sum()\n",
    "    print(f\"{columna}: {negativos} valores negativos\")"
   ]
  },
  {
   "cell_type": "code",
   "execution_count": 57,
   "id": "4f46c960",
   "metadata": {},
   "outputs": [
    {
     "name": "stdout",
     "output_type": "stream",
     "text": [
      "['Argentina' 'Brazil' 'Chile' 'Colombia' 'Mexico' 'Peru']\n"
     ]
    }
   ],
   "source": [
    "# filtra el dataset para quedarse solo con los datos de los 6 países latinoamericanos objetivo y guarda el resultado en data\n",
    "data_latinoamerica_final =  data_latinoamerica = data[data[\"country_name\"].isin(paises)]\n",
    "# Verificar los valores únicos en la columna 'location_key' después del filtro\n",
    "print(data_latinoamerica_final['country_name'].unique())"
   ]
  },
  {
   "cell_type": "markdown",
   "id": "3a889c26",
   "metadata": {},
   "source": [
    "Filtrar columnas que necesitamos "
   ]
  },
  {
   "cell_type": "code",
   "execution_count": 59,
   "id": "23395d3b",
   "metadata": {},
   "outputs": [
    {
     "name": "stdout",
     "output_type": "stream",
     "text": [
      "  location_key       date country_code country_name  new_confirmed  \\\n",
      "0           AR 2020-01-01           AR    Argentina            3.0   \n",
      "1           AR 2020-01-02           AR    Argentina           14.0   \n",
      "2           AR 2020-01-03           AR    Argentina            3.0   \n",
      "3           AR 2020-01-04           AR    Argentina            7.0   \n",
      "4           AR 2020-01-05           AR    Argentina            5.0   \n",
      "\n",
      "   new_deceased  cumulative_confirmed  cumulative_deceased  new_recovered  \\\n",
      "0           0.0                   3.0                  0.0      23.881789   \n",
      "1           0.0                  17.0                  0.0      23.881789   \n",
      "2           0.0                  20.0                  0.0      23.881789   \n",
      "3           0.0                  27.0                  0.0      23.881789   \n",
      "4           0.0                  32.0                  0.0      23.881789   \n",
      "\n",
      "   cumulative_recovered  cumulative_vaccine_doses_administered  \n",
      "0           8822.645593                           1.670412e+06  \n",
      "1           8822.645593                           1.670412e+06  \n",
      "2           8822.645593                           1.670412e+06  \n",
      "3           8822.645593                           1.670412e+06  \n",
      "4           8822.645593                           1.670412e+06  \n",
      "Columnas seleccionadas: ['location_key', 'date', 'country_code', 'country_name', 'new_confirmed', 'new_deceased', 'cumulative_confirmed', 'cumulative_deceased', 'new_recovered', 'cumulative_recovered', 'cumulative_vaccine_doses_administered']\n"
     ]
    }
   ],
   "source": [
    "# Paso 1: Definir las columnas de interés\n",
    "columnas_covid = [\n",
    "    'location_key', 'date', 'country_code', 'country_name',\n",
    "    'new_confirmed', 'new_deceased', 'cumulative_confirmed',\n",
    "    'cumulative_deceased', 'new_recovered', 'cumulative_recovered',\n",
    "    'cumulative_vaccine_doses_administered'\n",
    "]\n",
    "\n",
    "# Paso 2: Verificar que existan en el DataFrame original\n",
    "columnas_existentes = [col for col in columnas_covid if col in data_latinoamerica_limpio.columns]\n",
    "columnas_faltantes = [col for col in columnas_covid if col not in data_latinoamerica_limpio.columns]\n",
    "\n",
    "if columnas_faltantes:\n",
    "    print(\"Columnas faltantes:\", columnas_faltantes)\n",
    "else:\n",
    "    # Paso 3: Filtrar directamente sin copiar todo\n",
    "    data_latinoamerica_final = data_latinoamerica_limpio[columnas_existentes]\n",
    "    print(data_latinoamerica_final.head())\n",
    "    print(\"Columnas seleccionadas:\", data_latinoamerica_final.columns.tolist())\n"
   ]
  },
  {
   "cell_type": "code",
   "execution_count": 60,
   "id": "e0db466c",
   "metadata": {},
   "outputs": [
    {
     "name": "stdout",
     "output_type": "stream",
     "text": [
      "location_key                             0\n",
      "date                                     0\n",
      "country_code                             0\n",
      "country_name                             0\n",
      "new_confirmed                            0\n",
      "new_deceased                             0\n",
      "cumulative_confirmed                     0\n",
      "cumulative_deceased                      0\n",
      "new_recovered                            0\n",
      "cumulative_recovered                     0\n",
      "cumulative_vaccine_doses_administered    0\n",
      "dtype: int64\n"
     ]
    }
   ],
   "source": [
    "print(data_latinoamerica_final.isnull().sum())  "
   ]
  },
  {
   "cell_type": "markdown",
   "id": "dcdebfa4",
   "metadata": {},
   "source": [
    "exportar archivo real CVS"
   ]
  },
  {
   "cell_type": "code",
   "execution_count": 62,
   "id": "fae722a4",
   "metadata": {},
   "outputs": [],
   "source": [
    "data_latinoamerica_final.to_csv(\"CSV\\\\latam_covid.csv\",index=False) #exportar un archivo real CVS"
   ]
  },
  {
   "cell_type": "code",
   "execution_count": 63,
   "id": "7ba52507",
   "metadata": {},
   "outputs": [
    {
     "name": "stdout",
     "output_type": "stream",
     "text": [
      "--- new_confirmed ---\n",
      "Media: 31.378617261388907\n",
      "Mediana: 31.95396567948925\n",
      "Máximo: 298408.0\n",
      "Mínimo: 0.0\n",
      "Desviación estándar: 555.0952125184156\n",
      "\n",
      "--- new_deceased ---\n",
      "Media: 0.6985705696029375\n",
      "Mediana: 0.7014179449028117\n",
      "Máximo: 11447.0\n",
      "Mínimo: 0.0\n",
      "Desviación estándar: 12.633385569065696\n",
      "\n",
      "--- cumulative_confirmed ---\n",
      "Media: 11760.591426738743\n",
      "Mediana: 12074.474445586677\n",
      "Máximo: 34568833.0\n",
      "Mínimo: 0.0\n",
      "Desviación estándar: 192907.22087262728\n",
      "\n",
      "--- cumulative_deceased ---\n",
      "Media: 327.26520590450576\n",
      "Mediana: 333.5522347244784\n",
      "Máximo: 685203.0\n",
      "Mínimo: 0.0\n",
      "Desviación estándar: 4981.505473544079\n",
      "\n",
      "--- new_recovered ---\n",
      "Media: 23.952909122555013\n",
      "Mediana: 23.88178918461584\n",
      "Máximo: 282957.0\n",
      "Mínimo: 0.0\n",
      "Desviación estándar: 461.58380544801685\n",
      "\n",
      "--- cumulative_recovered ---\n",
      "Media: 8818.565966292002\n",
      "Mediana: 8822.645593035233\n",
      "Máximo: 33706231.0\n",
      "Mínimo: 0.0\n",
      "Desviación estándar: 163895.306528108\n",
      "\n",
      "--- cumulative_vaccine_doses_administered ---\n",
      "Media: 1666930.1961243274\n",
      "Mediana: 1670412.0400628524\n",
      "Máximo: 347868481.0\n",
      "Mínimo: 0.0\n",
      "Desviación estándar: 2053648.658185685\n",
      "\n"
     ]
    }
   ],
   "source": [
    "for col in data_latinoamerica_final.select_dtypes(include='number').columns: #pasa por cada pais y cuando pasa por cada pais saca la media,mediana etc.. de todos los países en conjunto  \n",
    "    print(f\"--- {col} ---\")                                   #y los ordena por categoria \n",
    "    print(f\"Media: {data_latinoamerica_final[col].mean()}\")\n",
    "    print(f\"Mediana: {data_latinoamerica_final[col].median()}\")\n",
    "    print(f\"Máximo: {data_latinoamerica_final[col].max()}\")\n",
    "    print(f\"Mínimo: {data_latinoamerica_final[col].min()}\")\n",
    "    print(f\"Desviación estándar: {data_latinoamerica_final[col].std()}\")\n",
    "    print()\n"
   ]
  },
  {
   "cell_type": "markdown",
   "id": "00360912",
   "metadata": {},
   "source": [
    "¿Qué implican estas métricas y cómo pueden ayudar en el análisis de datos?:Las métricas estadísticas como la media, mediana, máximo, mínimo y desviación estándar permiten entender la distribución y comportamiento general de los datos.\n",
    "\n",
    "¿Se muestran todas las estadísticas en todas las columnas durante el análisis?:No, no todas las estadísticas se muestran en todas las columnas. Algunas funciones como describe() de pandas solo se aplican automáticamente a columnas numéricas, mientras que las columnas de tipo texto (como nombres de país o fechas) no incluyen medidas como media o desviación estándar."
   ]
  },
  {
   "cell_type": "code",
   "execution_count": 64,
   "id": "21bf9650",
   "metadata": {},
   "outputs": [
    {
     "name": "stdout",
     "output_type": "stream",
     "text": [
      "Mediana de muertes acumuladas: 333.5522347244784\n",
      "Media de muertes acumuladas: 327.26520590450576\n",
      "Varianza de muertes acumuladas: 24815396.782949615\n",
      "Rango de muertes acumuladas: 685203.0\n"
     ]
    }
   ],
   "source": [
    "def estadisticas(columna):\n",
    "    # Calcula la mediana, varianza y rango de una columna numérica\n",
    "    mediana = columna.median()    # Mediana\n",
    "    media = columna.mean()   \n",
    "    varianza = columna.var()      # Varianza\n",
    "    rango = columna.max() - columna.min()  # Rango\n",
    "    return media,mediana, varianza, rango \n",
    "\n",
    "# Ejemplo de uso con la columna 'cumulative_deceased' de df_export\n",
    "muerte_acomulado = data_latinoamerica_final[\"cumulative_deceased\"]  # Usar la columna de muertes acumuladas\n",
    "media, med, var, ran = estadisticas(muerte_acomulado) # La función devuelve la media, mediana, varianza y rango de la columna y coloca la variable de muerte_acomulado\n",
    "\n",
    "# muestra la mediana, varianza y rango de la columna 'cumulative_deceased' (muertes acumuladas)\n",
    "print(f\"Mediana de muertes acumuladas: {med}\")\n",
    "print(f\"Media de muertes acumuladas: {media}\")\n",
    "print(f\"Varianza de muertes acumuladas: {var}\")\n",
    "print(f\"Rango de muertes acumuladas: {ran}\")\n"
   ]
  },
  {
   "cell_type": "markdown",
   "id": "d790a4cf",
   "metadata": {},
   "source": [
    "¿Qué representa la mediana?: La mediana es el valor central en un conjunto de datos ordenado, lo que la hace menos sensible a los valores atípicos en comparación con la media.\n",
    "\n",
    "¿Cómo varía la dispersión de los datos en el conjunto de datos analizado, en términos de la varianza y el rango?: La varianza muestra cuánto se dispersan los datos respecto a la media, y el rango muestra la diferencia entre el valor máximo y el mínimo, ambos indicadores de dispersión.\n",
    "\n",
    "¿Qué nos puede indicar esto sobre la consistencia o la variabilidad de los datos en relación con la mediana?: La varianza y el rango nos indican cuán consistentes o variables son los datos. Si son altos, puede indicar gran dispersión respecto a la mediana.\n",
    "\n"
   ]
  },
  {
   "cell_type": "markdown",
   "id": "e7a91504",
   "metadata": {},
   "source": [
    "AVANZE 2 S\n",
    "\n"
   ]
  },
  {
   "cell_type": "code",
   "execution_count": 65,
   "id": "f8a28654",
   "metadata": {},
   "outputs": [
    {
     "name": "stdout",
     "output_type": "stream",
     "text": [
      "             new_confirmed                                         \\\n",
      "                      mean     median          std  min       max   \n",
      "country_name                                                        \n",
      "Argentina        61.089916  15.000000  1012.457726  0.0  174174.0   \n",
      "Brazil           23.000737   0.000000   699.601505  0.0  298408.0   \n",
      "Chile            60.662841  31.953966   423.866793  0.0   38446.0   \n",
      "Colombia         38.032037  31.953966   331.886196  0.0   40415.0   \n",
      "Mexico           35.358398  31.953966   254.194176  0.0   81002.0   \n",
      "Peru             32.441503  31.953966   195.258061  0.0   58128.0   \n",
      "\n",
      "             new_deceased                                     ...  \\\n",
      "                     mean    median        std  min      max  ...   \n",
      "country_name                                                  ...   \n",
      "Argentina        0.928384  0.000000   9.748400  0.0    656.0  ...   \n",
      "Brazil           0.480587  0.000000  15.111551  0.0   4249.0  ...   \n",
      "Chile            1.061921  0.701418  22.410816  0.0  11447.0  ...   \n",
      "Colombia         0.910246  0.701418   7.763893  0.0    716.0  ...   \n",
      "Mexico           0.812869  0.701418   9.243703  0.0   1495.0  ...   \n",
      "Peru             0.920200  0.701418   8.370493  0.0    847.0  ...   \n",
      "\n",
      "             cumulative_deceased                                          \\\n",
      "                            mean      median          std  min       max   \n",
      "country_name                                                               \n",
      "Argentina             440.088192  129.000000  4082.856737  0.0  129830.0   \n",
      "Brazil                243.684717   13.000000  6356.619649  0.0  685203.0   \n",
      "Chile                 420.907046  333.552235  1990.353384  0.0   60822.0   \n",
      "Colombia              391.396124  333.552235  3122.931098  0.0  155770.0   \n",
      "Mexico                363.711090  333.552235  3171.769524  0.0  304025.0   \n",
      "Peru                  433.899580  333.552235  3764.053817  0.0  216173.0   \n",
      "\n",
      "             cumulative_vaccine_doses_administered                \\\n",
      "                                              mean        median   \n",
      "country_name                                                       \n",
      "Argentina                             1.016323e+06  1.670412e+06   \n",
      "Brazil                                1.712734e+06  1.670412e+06   \n",
      "Chile                                 1.728416e+06  1.670412e+06   \n",
      "Colombia                              1.673583e+06  1.670412e+06   \n",
      "Mexico                                1.683423e+06  1.670412e+06   \n",
      "Peru                                  1.682502e+06  1.670412e+06   \n",
      "\n",
      "                                                 \n",
      "                       std     min          max  \n",
      "country_name                                     \n",
      "Argentina     1.883237e+06     1.0  109204825.0  \n",
      "Brazil        2.715855e+06     2.0  347868481.0  \n",
      "Chile         1.609849e+06   420.0   62204235.0  \n",
      "Colombia      7.939983e+05     0.0   87566541.0  \n",
      "Mexico        1.337491e+06  2924.0  209673612.0  \n",
      "Peru          8.686190e+05  3762.0   83624934.0  \n",
      "\n",
      "[6 rows x 25 columns]\n",
      "                      new_confirmed  new_deceased  cumulative_confirmed  \\\n",
      "new_confirmed              1.000000      0.639189              0.585920   \n",
      "new_deceased               0.639189      1.000000              0.405388   \n",
      "cumulative_confirmed       0.585920      0.405388              1.000000   \n",
      "cumulative_deceased        0.581354      0.486043              0.938780   \n",
      "\n",
      "                      cumulative_deceased  \n",
      "new_confirmed                    0.581354  \n",
      "new_deceased                     0.486043  \n",
      "cumulative_confirmed             0.938780  \n",
      "cumulative_deceased              1.000000  \n"
     ]
    }
   ],
   "source": [
    "\n",
    "# Agrupar por país y luego aplicar las estadísticas generales\n",
    "estadisticas_por_pais = data_latinoamerica_final.groupby('country_name')[[\n",
    "    'new_confirmed', 'new_deceased', 'cumulative_confirmed',\n",
    "    'cumulative_deceased', 'cumulative_vaccine_doses_administered'\n",
    "]].agg(['mean', 'median', 'std', 'min', 'max'])\n",
    "\n",
    "# Mostrar las estadísticas por país\n",
    "print(estadisticas_por_pais)\n",
    "\n",
    "# Solo columnas numéricas relevantes\n",
    "cols_corr = [\n",
    "    'new_confirmed', 'new_deceased', 'cumulative_confirmed',\n",
    "    'cumulative_deceased'\n",
    "]\n",
    "\n",
    "# Correlación para países seleccionados\n",
    "corr_matrix = data_latinoamerica_final[cols_corr].corr()\n",
    "print(corr_matrix)\n",
    "\n"
   ]
  },
  {
   "cell_type": "code",
   "execution_count": 67,
   "id": "490e3573",
   "metadata": {},
   "outputs": [
    {
     "data": {
      "image/png": "[encoded data removed]",
      "text/plain": [
       "<Figure size 1000x600 with 1 Axes>"
      ]
     },
     "metadata": {},
     "output_type": "display_data"
    }
   ],
   "source": [
    "\n",
    "# Crear gráfico de barras\n",
    "plt.figure(figsize=(10, 6))\n",
    "barplot = sns.barplot(x='country_name', y='new_confirmed', data=data_latinoamerica_final, color='skyblue')\n",
    "\n",
    "# Etiquetas y título\n",
    "plt.title('Promedio de Nuevos Casos Confirmados por País', fontsize=16)\n",
    "plt.xlabel('País')\n",
    "plt.ylabel('Promedio de nuevos casos')\n",
    "plt.xticks(rotation=30)\n",
    "plt.tight_layout()\n",
    "plt.show()\n"
   ]
  },
  {
   "cell_type": "code",
   "execution_count": 68,
   "id": "a12c3b46",
   "metadata": {},
   "outputs": [
    {
     "data": {
      "image/png": "[encoded data removed]",
      "text/plain": [
       "<Figure size 1200x800 with 2 Axes>"
      ]
     },
     "metadata": {},
     "output_type": "display_data"
    }
   ],
   "source": [
    "#Mapa de calor de correlación entre variables \n",
    "plt.figure(figsize=(12,8))\n",
    "sns.heatmap(corr_matrix, annot=True, cmap='coolwarm', fmt=\".2f\")\n",
    "plt.title('Mapa de Calor de Correlación entre Variables')\n",
    "plt.show()\n"
   ]
  },
  {
   "cell_type": "code",
   "execution_count": 69,
   "id": "5bdf2ddc",
   "metadata": {},
   "outputs": [
    {
     "ename": "MemoryError",
     "evalue": "Unable to allocate 272. MiB for an array with shape (11895834, 3) and data type float64",
     "output_type": "error",
     "traceback": [
      "\u001b[31m---------------------------------------------------------------------------\u001b[39m",
      "\u001b[31mMemoryError\u001b[39m                               Traceback (most recent call last)",
      "\u001b[36mCell\u001b[39m\u001b[36m \u001b[39m\u001b[32mIn[69]\u001b[39m\u001b[32m, line 3\u001b[39m\n\u001b[32m      1\u001b[39m \u001b[38;5;66;03m#Histograma y densidad de nuevos casos por país\u001b[39;00m\n\u001b[32m      2\u001b[39m plt.figure(figsize=(\u001b[32m10\u001b[39m,\u001b[32m6\u001b[39m))\n\u001b[32m----> \u001b[39m\u001b[32m3\u001b[39m \u001b[43msns\u001b[49m\u001b[43m.\u001b[49m\u001b[43mscatterplot\u001b[49m\u001b[43m(\u001b[49m\n\u001b[32m      4\u001b[39m \u001b[43m    \u001b[49m\u001b[43mdata\u001b[49m\u001b[43m=\u001b[49m\u001b[43mdata_latinoamerica_final\u001b[49m\u001b[43m,\u001b[49m\n\u001b[32m      5\u001b[39m \u001b[43m    \u001b[49m\u001b[43mx\u001b[49m\u001b[43m=\u001b[49m\u001b[33;43m'\u001b[39;49m\u001b[33;43mcumulative_vaccine_doses_administered\u001b[39;49m\u001b[33;43m'\u001b[39;49m\u001b[43m,\u001b[49m\n\u001b[32m      6\u001b[39m \u001b[43m    \u001b[49m\u001b[43my\u001b[49m\u001b[43m=\u001b[49m\u001b[33;43m'\u001b[39;49m\u001b[33;43mcumulative_confirmed\u001b[39;49m\u001b[33;43m'\u001b[39;49m\u001b[43m,\u001b[49m\n\u001b[32m      7\u001b[39m \u001b[43m    \u001b[49m\u001b[43mhue\u001b[49m\u001b[43m=\u001b[49m\u001b[33;43m'\u001b[39;49m\u001b[33;43mcountry_name\u001b[39;49m\u001b[33;43m'\u001b[39;49m\n\u001b[32m      8\u001b[39m \u001b[43m)\u001b[49m\n\u001b[32m      9\u001b[39m plt.title(\u001b[33m'\u001b[39m\u001b[33mRelación entre Vacunación y Casos Confirmados\u001b[39m\u001b[33m'\u001b[39m)\n\u001b[32m     10\u001b[39m plt.xlabel(\u001b[33m'\u001b[39m\u001b[33mDosis de Vacunas Administradas\u001b[39m\u001b[33m'\u001b[39m)\n",
      "\u001b[36mFile \u001b[39m\u001b[32mc:\\Users\\benav\\AppData\\Local\\Programs\\Python\\Python313\\Lib\\site-packages\\seaborn\\relational.py:636\u001b[39m, in \u001b[36mscatterplot\u001b[39m\u001b[34m(data, x, y, hue, size, style, palette, hue_order, hue_norm, sizes, size_order, size_norm, markers, style_order, legend, ax, **kwargs)\u001b[39m\n\u001b[32m    633\u001b[39m color = kwargs.pop(\u001b[33m\"\u001b[39m\u001b[33mcolor\u001b[39m\u001b[33m\"\u001b[39m, \u001b[38;5;28;01mNone\u001b[39;00m)\n\u001b[32m    634\u001b[39m kwargs[\u001b[33m\"\u001b[39m\u001b[33mcolor\u001b[39m\u001b[33m\"\u001b[39m] = _default_color(ax.scatter, hue, color, kwargs)\n\u001b[32m--> \u001b[39m\u001b[32m636\u001b[39m \u001b[43mp\u001b[49m\u001b[43m.\u001b[49m\u001b[43mplot\u001b[49m\u001b[43m(\u001b[49m\u001b[43max\u001b[49m\u001b[43m,\u001b[49m\u001b[43m \u001b[49m\u001b[43mkwargs\u001b[49m\u001b[43m)\u001b[49m\n\u001b[32m    638\u001b[39m \u001b[38;5;28;01mreturn\u001b[39;00m ax\n",
      "\u001b[36mFile \u001b[39m\u001b[32mc:\\Users\\benav\\AppData\\Local\\Programs\\Python\\Python313\\Lib\\site-packages\\seaborn\\relational.py:443\u001b[39m, in \u001b[36m_ScatterPlotter.plot\u001b[39m\u001b[34m(self, ax, kws)\u001b[39m\n\u001b[32m    440\u001b[39m \u001b[38;5;66;03m# Apply the mapping from semantic variables to artist attributes\u001b[39;00m\n\u001b[32m    442\u001b[39m \u001b[38;5;28;01mif\u001b[39;00m \u001b[33m\"\u001b[39m\u001b[33mhue\u001b[39m\u001b[33m\"\u001b[39m \u001b[38;5;129;01min\u001b[39;00m \u001b[38;5;28mself\u001b[39m.variables:\n\u001b[32m--> \u001b[39m\u001b[32m443\u001b[39m     \u001b[43mpoints\u001b[49m\u001b[43m.\u001b[49m\u001b[43mset_facecolors\u001b[49m\u001b[43m(\u001b[49m\u001b[38;5;28;43mself\u001b[39;49m\u001b[43m.\u001b[49m\u001b[43m_hue_map\u001b[49m\u001b[43m(\u001b[49m\u001b[43mdata\u001b[49m\u001b[43m[\u001b[49m\u001b[33;43m\"\u001b[39;49m\u001b[33;43mhue\u001b[39;49m\u001b[33;43m\"\u001b[39;49m\u001b[43m]\u001b[49m\u001b[43m)\u001b[49m\u001b[43m)\u001b[49m\n\u001b[32m    445\u001b[39m \u001b[38;5;28;01mif\u001b[39;00m \u001b[33m\"\u001b[39m\u001b[33msize\u001b[39m\u001b[33m\"\u001b[39m \u001b[38;5;129;01min\u001b[39;00m \u001b[38;5;28mself\u001b[39m.variables:\n\u001b[32m    446\u001b[39m     points.set_sizes(\u001b[38;5;28mself\u001b[39m._size_map(data[\u001b[33m\"\u001b[39m\u001b[33msize\u001b[39m\u001b[33m\"\u001b[39m]))\n",
      "\u001b[36mFile \u001b[39m\u001b[32mc:\\Users\\benav\\AppData\\Local\\Programs\\Python\\Python313\\Lib\\site-packages\\matplotlib\\_api\\__init__.py:248\u001b[39m, in \u001b[36mdefine_aliases.<locals>.make_alias.<locals>.method\u001b[39m\u001b[34m(self, *args, **kwargs)\u001b[39m\n\u001b[32m    246\u001b[39m \u001b[38;5;129m@functools\u001b[39m.wraps(\u001b[38;5;28mgetattr\u001b[39m(\u001b[38;5;28mcls\u001b[39m, name))\n\u001b[32m    247\u001b[39m \u001b[38;5;28;01mdef\u001b[39;00m\u001b[38;5;250m \u001b[39m\u001b[34mmethod\u001b[39m(\u001b[38;5;28mself\u001b[39m, *args, **kwargs):\n\u001b[32m--> \u001b[39m\u001b[32m248\u001b[39m     \u001b[38;5;28;01mreturn\u001b[39;00m \u001b[38;5;28;43mgetattr\u001b[39;49m\u001b[43m(\u001b[49m\u001b[38;5;28;43mself\u001b[39;49m\u001b[43m,\u001b[49m\u001b[43m \u001b[49m\u001b[43mname\u001b[49m\u001b[43m)\u001b[49m\u001b[43m(\u001b[49m\u001b[43m*\u001b[49m\u001b[43margs\u001b[49m\u001b[43m,\u001b[49m\u001b[43m \u001b[49m\u001b[43m*\u001b[49m\u001b[43m*\u001b[49m\u001b[43mkwargs\u001b[49m\u001b[43m)\u001b[49m\n",
      "\u001b[36mFile \u001b[39m\u001b[32mc:\\Users\\benav\\AppData\\Local\\Programs\\Python\\Python313\\Lib\\site-packages\\matplotlib\\collections.py:796\u001b[39m, in \u001b[36mCollection.set_facecolor\u001b[39m\u001b[34m(self, c)\u001b[39m\n\u001b[32m    794\u001b[39m     c = c.lower()\n\u001b[32m    795\u001b[39m \u001b[38;5;28mself\u001b[39m._original_facecolor = c\n\u001b[32m--> \u001b[39m\u001b[32m796\u001b[39m \u001b[38;5;28;43mself\u001b[39;49m\u001b[43m.\u001b[49m\u001b[43m_set_facecolor\u001b[49m\u001b[43m(\u001b[49m\u001b[43mc\u001b[49m\u001b[43m)\u001b[49m\n",
      "\u001b[36mFile \u001b[39m\u001b[32mc:\\Users\\benav\\AppData\\Local\\Programs\\Python\\Python313\\Lib\\site-packages\\matplotlib\\collections.py:778\u001b[39m, in \u001b[36mCollection._set_facecolor\u001b[39m\u001b[34m(self, c)\u001b[39m\n\u001b[32m    775\u001b[39m \u001b[38;5;28;01mif\u001b[39;00m c \u001b[38;5;129;01mis\u001b[39;00m \u001b[38;5;28;01mNone\u001b[39;00m:\n\u001b[32m    776\u001b[39m     c = \u001b[38;5;28mself\u001b[39m._get_default_facecolor()\n\u001b[32m--> \u001b[39m\u001b[32m778\u001b[39m \u001b[38;5;28mself\u001b[39m._facecolors = \u001b[43mmcolors\u001b[49m\u001b[43m.\u001b[49m\u001b[43mto_rgba_array\u001b[49m\u001b[43m(\u001b[49m\u001b[43mc\u001b[49m\u001b[43m,\u001b[49m\u001b[43m \u001b[49m\u001b[38;5;28;43mself\u001b[39;49m\u001b[43m.\u001b[49m\u001b[43m_alpha\u001b[49m\u001b[43m)\u001b[49m\n\u001b[32m    779\u001b[39m \u001b[38;5;28mself\u001b[39m.stale = \u001b[38;5;28;01mTrue\u001b[39;00m\n",
      "\u001b[36mFile \u001b[39m\u001b[32mc:\\Users\\benav\\AppData\\Local\\Programs\\Python\\Python313\\Lib\\site-packages\\matplotlib\\colors.py:509\u001b[39m, in \u001b[36mto_rgba_array\u001b[39m\u001b[34m(c, alpha)\u001b[39m\n\u001b[32m    507\u001b[39m lens = {\u001b[38;5;28mlen\u001b[39m(cc) \u001b[38;5;28;01mif\u001b[39;00m \u001b[38;5;28misinstance\u001b[39m(cc, (\u001b[38;5;28mlist\u001b[39m, \u001b[38;5;28mtuple\u001b[39m)) \u001b[38;5;28;01melse\u001b[39;00m -\u001b[32m1\u001b[39m \u001b[38;5;28;01mfor\u001b[39;00m cc \u001b[38;5;129;01min\u001b[39;00m c}\n\u001b[32m    508\u001b[39m \u001b[38;5;28;01mif\u001b[39;00m lens == {\u001b[32m3\u001b[39m}:\n\u001b[32m--> \u001b[39m\u001b[32m509\u001b[39m     rgba = \u001b[43mnp\u001b[49m\u001b[43m.\u001b[49m\u001b[43mcolumn_stack\u001b[49m\u001b[43m(\u001b[49m\u001b[43m[\u001b[49m\u001b[43mc\u001b[49m\u001b[43m,\u001b[49m\u001b[43m \u001b[49m\u001b[43mnp\u001b[49m\u001b[43m.\u001b[49m\u001b[43mones\u001b[49m\u001b[43m(\u001b[49m\u001b[38;5;28;43mlen\u001b[39;49m\u001b[43m(\u001b[49m\u001b[43mc\u001b[49m\u001b[43m)\u001b[49m\u001b[43m)\u001b[49m\u001b[43m]\u001b[49m\u001b[43m)\u001b[49m\n\u001b[32m    510\u001b[39m \u001b[38;5;28;01melif\u001b[39;00m lens == {\u001b[32m4\u001b[39m}:\n\u001b[32m    511\u001b[39m     rgba = np.array(c)\n",
      "\u001b[36mFile \u001b[39m\u001b[32mc:\\Users\\benav\\AppData\\Local\\Programs\\Python\\Python313\\Lib\\site-packages\\numpy\\lib\\_shape_base_impl.py:658\u001b[39m, in \u001b[36mcolumn_stack\u001b[39m\u001b[34m(tup)\u001b[39m\n\u001b[32m    656\u001b[39m arrays = []\n\u001b[32m    657\u001b[39m \u001b[38;5;28;01mfor\u001b[39;00m v \u001b[38;5;129;01min\u001b[39;00m tup:\n\u001b[32m--> \u001b[39m\u001b[32m658\u001b[39m     arr = \u001b[43masanyarray\u001b[49m\u001b[43m(\u001b[49m\u001b[43mv\u001b[49m\u001b[43m)\u001b[49m\n\u001b[32m    659\u001b[39m     \u001b[38;5;28;01mif\u001b[39;00m arr.ndim < \u001b[32m2\u001b[39m:\n\u001b[32m    660\u001b[39m         arr = array(arr, copy=\u001b[38;5;28;01mNone\u001b[39;00m, subok=\u001b[38;5;28;01mTrue\u001b[39;00m, ndmin=\u001b[32m2\u001b[39m).T\n",
      "\u001b[31mMemoryError\u001b[39m: Unable to allocate 272. MiB for an array with shape (11895834, 3) and data type float64"
     ]
    },
    {
     "name": "stdout",
     "output_type": "stream",
     "text": [
      "Error in callback <function _draw_all_if_interactive at 0x000002448C9742C0> (for post_execute), with arguments args (),kwargs {}:\n"
     ]
    },
    {
     "ename": "MemoryError",
     "evalue": "Unable to allocate 272. MiB for an array with shape (11895834, 3) and data type float64",
     "output_type": "error",
     "traceback": [
      "\u001b[31m---------------------------------------------------------------------------\u001b[39m",
      "\u001b[31mMemoryError\u001b[39m                               Traceback (most recent call last)",
      "\u001b[36mFile \u001b[39m\u001b[32mc:\\Users\\benav\\AppData\\Local\\Programs\\Python\\Python313\\Lib\\site-packages\\matplotlib\\pyplot.py:279\u001b[39m, in \u001b[36m_draw_all_if_interactive\u001b[39m\u001b[34m()\u001b[39m\n\u001b[32m    277\u001b[39m \u001b[38;5;28;01mdef\u001b[39;00m\u001b[38;5;250m \u001b[39m\u001b[34m_draw_all_if_interactive\u001b[39m() -> \u001b[38;5;28;01mNone\u001b[39;00m:\n\u001b[32m    278\u001b[39m     \u001b[38;5;28;01mif\u001b[39;00m matplotlib.is_interactive():\n\u001b[32m--> \u001b[39m\u001b[32m279\u001b[39m         \u001b[43mdraw_all\u001b[49m\u001b[43m(\u001b[49m\u001b[43m)\u001b[49m\n",
      "\u001b[36mFile \u001b[39m\u001b[32mc:\\Users\\benav\\AppData\\Local\\Programs\\Python\\Python313\\Lib\\site-packages\\matplotlib\\_pylab_helpers.py:131\u001b[39m, in \u001b[36mGcf.draw_all\u001b[39m\u001b[34m(cls, force)\u001b[39m\n\u001b[32m    129\u001b[39m \u001b[38;5;28;01mfor\u001b[39;00m manager \u001b[38;5;129;01min\u001b[39;00m \u001b[38;5;28mcls\u001b[39m.get_all_fig_managers():\n\u001b[32m    130\u001b[39m     \u001b[38;5;28;01mif\u001b[39;00m force \u001b[38;5;129;01mor\u001b[39;00m manager.canvas.figure.stale:\n\u001b[32m--> \u001b[39m\u001b[32m131\u001b[39m         \u001b[43mmanager\u001b[49m\u001b[43m.\u001b[49m\u001b[43mcanvas\u001b[49m\u001b[43m.\u001b[49m\u001b[43mdraw_idle\u001b[49m\u001b[43m(\u001b[49m\u001b[43m)\u001b[49m\n",
      "\u001b[36mFile \u001b[39m\u001b[32mc:\\Users\\benav\\AppData\\Local\\Programs\\Python\\Python313\\Lib\\site-packages\\matplotlib\\backend_bases.py:1891\u001b[39m, in \u001b[36mFigureCanvasBase.draw_idle\u001b[39m\u001b[34m(self, *args, **kwargs)\u001b[39m\n\u001b[32m   1889\u001b[39m \u001b[38;5;28;01mif\u001b[39;00m \u001b[38;5;129;01mnot\u001b[39;00m \u001b[38;5;28mself\u001b[39m._is_idle_drawing:\n\u001b[32m   1890\u001b[39m     \u001b[38;5;28;01mwith\u001b[39;00m \u001b[38;5;28mself\u001b[39m._idle_draw_cntx():\n\u001b[32m-> \u001b[39m\u001b[32m1891\u001b[39m         \u001b[38;5;28;43mself\u001b[39;49m\u001b[43m.\u001b[49m\u001b[43mdraw\u001b[49m\u001b[43m(\u001b[49m\u001b[43m*\u001b[49m\u001b[43margs\u001b[49m\u001b[43m,\u001b[49m\u001b[43m \u001b[49m\u001b[43m*\u001b[49m\u001b[43m*\u001b[49m\u001b[43mkwargs\u001b[49m\u001b[43m)\u001b[49m\n",
      "\u001b[36mFile \u001b[39m\u001b[32mc:\\Users\\benav\\AppData\\Local\\Programs\\Python\\Python313\\Lib\\site-packages\\matplotlib\\backends\\backend_agg.py:382\u001b[39m, in \u001b[36mFigureCanvasAgg.draw\u001b[39m\u001b[34m(self)\u001b[39m\n\u001b[32m    379\u001b[39m \u001b[38;5;66;03m# Acquire a lock on the shared font cache.\u001b[39;00m\n\u001b[32m    380\u001b[39m \u001b[38;5;28;01mwith\u001b[39;00m (\u001b[38;5;28mself\u001b[39m.toolbar._wait_cursor_for_draw_cm() \u001b[38;5;28;01mif\u001b[39;00m \u001b[38;5;28mself\u001b[39m.toolbar\n\u001b[32m    381\u001b[39m       \u001b[38;5;28;01melse\u001b[39;00m nullcontext()):\n\u001b[32m--> \u001b[39m\u001b[32m382\u001b[39m     \u001b[38;5;28;43mself\u001b[39;49m\u001b[43m.\u001b[49m\u001b[43mfigure\u001b[49m\u001b[43m.\u001b[49m\u001b[43mdraw\u001b[49m\u001b[43m(\u001b[49m\u001b[38;5;28;43mself\u001b[39;49m\u001b[43m.\u001b[49m\u001b[43mrenderer\u001b[49m\u001b[43m)\u001b[49m\n\u001b[32m    383\u001b[39m     \u001b[38;5;66;03m# A GUI class may be need to update a window using this draw, so\u001b[39;00m\n\u001b[32m    384\u001b[39m     \u001b[38;5;66;03m# don't forget to call the superclass.\u001b[39;00m\n\u001b[32m    385\u001b[39m     \u001b[38;5;28msuper\u001b[39m().draw()\n",
      "\u001b[36mFile \u001b[39m\u001b[32mc:\\Users\\benav\\AppData\\Local\\Programs\\Python\\Python313\\Lib\\site-packages\\matplotlib\\artist.py:94\u001b[39m, in \u001b[36m_finalize_rasterization.<locals>.draw_wrapper\u001b[39m\u001b[34m(artist, renderer, *args, **kwargs)\u001b[39m\n\u001b[32m     92\u001b[39m \u001b[38;5;129m@wraps\u001b[39m(draw)\n\u001b[32m     93\u001b[39m \u001b[38;5;28;01mdef\u001b[39;00m\u001b[38;5;250m \u001b[39m\u001b[34mdraw_wrapper\u001b[39m(artist, renderer, *args, **kwargs):\n\u001b[32m---> \u001b[39m\u001b[32m94\u001b[39m     result = \u001b[43mdraw\u001b[49m\u001b[43m(\u001b[49m\u001b[43martist\u001b[49m\u001b[43m,\u001b[49m\u001b[43m \u001b[49m\u001b[43mrenderer\u001b[49m\u001b[43m,\u001b[49m\u001b[43m \u001b[49m\u001b[43m*\u001b[49m\u001b[43margs\u001b[49m\u001b[43m,\u001b[49m\u001b[43m \u001b[49m\u001b[43m*\u001b[49m\u001b[43m*\u001b[49m\u001b[43mkwargs\u001b[49m\u001b[43m)\u001b[49m\n\u001b[32m     95\u001b[39m     \u001b[38;5;28;01mif\u001b[39;00m renderer._rasterizing:\n\u001b[32m     96\u001b[39m         renderer.stop_rasterizing()\n",
      "\u001b[36mFile \u001b[39m\u001b[32mc:\\Users\\benav\\AppData\\Local\\Programs\\Python\\Python313\\Lib\\site-packages\\matplotlib\\artist.py:71\u001b[39m, in \u001b[36mallow_rasterization.<locals>.draw_wrapper\u001b[39m\u001b[34m(artist, renderer)\u001b[39m\n\u001b[32m     68\u001b[39m     \u001b[38;5;28;01mif\u001b[39;00m artist.get_agg_filter() \u001b[38;5;129;01mis\u001b[39;00m \u001b[38;5;129;01mnot\u001b[39;00m \u001b[38;5;28;01mNone\u001b[39;00m:\n\u001b[32m     69\u001b[39m         renderer.start_filter()\n\u001b[32m---> \u001b[39m\u001b[32m71\u001b[39m     \u001b[38;5;28;01mreturn\u001b[39;00m \u001b[43mdraw\u001b[49m\u001b[43m(\u001b[49m\u001b[43martist\u001b[49m\u001b[43m,\u001b[49m\u001b[43m \u001b[49m\u001b[43mrenderer\u001b[49m\u001b[43m)\u001b[49m\n\u001b[32m     72\u001b[39m \u001b[38;5;28;01mfinally\u001b[39;00m:\n\u001b[32m     73\u001b[39m     \u001b[38;5;28;01mif\u001b[39;00m artist.get_agg_filter() \u001b[38;5;129;01mis\u001b[39;00m \u001b[38;5;129;01mnot\u001b[39;00m \u001b[38;5;28;01mNone\u001b[39;00m:\n",
      "\u001b[36mFile \u001b[39m\u001b[32mc:\\Users\\benav\\AppData\\Local\\Programs\\Python\\Python313\\Lib\\site-packages\\matplotlib\\figure.py:3257\u001b[39m, in \u001b[36mFigure.draw\u001b[39m\u001b[34m(self, renderer)\u001b[39m\n\u001b[32m   3254\u001b[39m             \u001b[38;5;66;03m# ValueError can occur when resizing a window.\u001b[39;00m\n\u001b[32m   3256\u001b[39m     \u001b[38;5;28mself\u001b[39m.patch.draw(renderer)\n\u001b[32m-> \u001b[39m\u001b[32m3257\u001b[39m     \u001b[43mmimage\u001b[49m\u001b[43m.\u001b[49m\u001b[43m_draw_list_compositing_images\u001b[49m\u001b[43m(\u001b[49m\n\u001b[32m   3258\u001b[39m \u001b[43m        \u001b[49m\u001b[43mrenderer\u001b[49m\u001b[43m,\u001b[49m\u001b[43m \u001b[49m\u001b[38;5;28;43mself\u001b[39;49m\u001b[43m,\u001b[49m\u001b[43m \u001b[49m\u001b[43martists\u001b[49m\u001b[43m,\u001b[49m\u001b[43m \u001b[49m\u001b[38;5;28;43mself\u001b[39;49m\u001b[43m.\u001b[49m\u001b[43msuppressComposite\u001b[49m\u001b[43m)\u001b[49m\n\u001b[32m   3260\u001b[39m     renderer.close_group(\u001b[33m'\u001b[39m\u001b[33mfigure\u001b[39m\u001b[33m'\u001b[39m)\n\u001b[32m   3261\u001b[39m \u001b[38;5;28;01mfinally\u001b[39;00m:\n",
      "\u001b[36mFile \u001b[39m\u001b[32mc:\\Users\\benav\\AppData\\Local\\Programs\\Python\\Python313\\Lib\\site-packages\\matplotlib\\image.py:134\u001b[39m, in \u001b[36m_draw_list_compositing_images\u001b[39m\u001b[34m(renderer, parent, artists, suppress_composite)\u001b[39m\n\u001b[32m    132\u001b[39m \u001b[38;5;28;01mif\u001b[39;00m not_composite \u001b[38;5;129;01mor\u001b[39;00m \u001b[38;5;129;01mnot\u001b[39;00m has_images:\n\u001b[32m    133\u001b[39m     \u001b[38;5;28;01mfor\u001b[39;00m a \u001b[38;5;129;01min\u001b[39;00m artists:\n\u001b[32m--> \u001b[39m\u001b[32m134\u001b[39m         \u001b[43ma\u001b[49m\u001b[43m.\u001b[49m\u001b[43mdraw\u001b[49m\u001b[43m(\u001b[49m\u001b[43mrenderer\u001b[49m\u001b[43m)\u001b[49m\n\u001b[32m    135\u001b[39m \u001b[38;5;28;01melse\u001b[39;00m:\n\u001b[32m    136\u001b[39m     \u001b[38;5;66;03m# Composite any adjacent images together\u001b[39;00m\n\u001b[32m    137\u001b[39m     image_group = []\n",
      "\u001b[36mFile \u001b[39m\u001b[32mc:\\Users\\benav\\AppData\\Local\\Programs\\Python\\Python313\\Lib\\site-packages\\matplotlib\\artist.py:71\u001b[39m, in \u001b[36mallow_rasterization.<locals>.draw_wrapper\u001b[39m\u001b[34m(artist, renderer)\u001b[39m\n\u001b[32m     68\u001b[39m     \u001b[38;5;28;01mif\u001b[39;00m artist.get_agg_filter() \u001b[38;5;129;01mis\u001b[39;00m \u001b[38;5;129;01mnot\u001b[39;00m \u001b[38;5;28;01mNone\u001b[39;00m:\n\u001b[32m     69\u001b[39m         renderer.start_filter()\n\u001b[32m---> \u001b[39m\u001b[32m71\u001b[39m     \u001b[38;5;28;01mreturn\u001b[39;00m \u001b[43mdraw\u001b[49m\u001b[43m(\u001b[49m\u001b[43martist\u001b[49m\u001b[43m,\u001b[49m\u001b[43m \u001b[49m\u001b[43mrenderer\u001b[49m\u001b[43m)\u001b[49m\n\u001b[32m     72\u001b[39m \u001b[38;5;28;01mfinally\u001b[39;00m:\n\u001b[32m     73\u001b[39m     \u001b[38;5;28;01mif\u001b[39;00m artist.get_agg_filter() \u001b[38;5;129;01mis\u001b[39;00m \u001b[38;5;129;01mnot\u001b[39;00m \u001b[38;5;28;01mNone\u001b[39;00m:\n",
      "\u001b[36mFile \u001b[39m\u001b[32mc:\\Users\\benav\\AppData\\Local\\Programs\\Python\\Python313\\Lib\\site-packages\\matplotlib\\axes\\_base.py:3210\u001b[39m, in \u001b[36m_AxesBase.draw\u001b[39m\u001b[34m(self, renderer)\u001b[39m\n\u001b[32m   3207\u001b[39m \u001b[38;5;28;01mif\u001b[39;00m artists_rasterized:\n\u001b[32m   3208\u001b[39m     _draw_rasterized(\u001b[38;5;28mself\u001b[39m.get_figure(root=\u001b[38;5;28;01mTrue\u001b[39;00m), artists_rasterized, renderer)\n\u001b[32m-> \u001b[39m\u001b[32m3210\u001b[39m \u001b[43mmimage\u001b[49m\u001b[43m.\u001b[49m\u001b[43m_draw_list_compositing_images\u001b[49m\u001b[43m(\u001b[49m\n\u001b[32m   3211\u001b[39m \u001b[43m    \u001b[49m\u001b[43mrenderer\u001b[49m\u001b[43m,\u001b[49m\u001b[43m \u001b[49m\u001b[38;5;28;43mself\u001b[39;49m\u001b[43m,\u001b[49m\u001b[43m \u001b[49m\u001b[43martists\u001b[49m\u001b[43m,\u001b[49m\u001b[43m \u001b[49m\u001b[38;5;28;43mself\u001b[39;49m\u001b[43m.\u001b[49m\u001b[43mget_figure\u001b[49m\u001b[43m(\u001b[49m\u001b[43mroot\u001b[49m\u001b[43m=\u001b[49m\u001b[38;5;28;43;01mTrue\u001b[39;49;00m\u001b[43m)\u001b[49m\u001b[43m.\u001b[49m\u001b[43msuppressComposite\u001b[49m\u001b[43m)\u001b[49m\n\u001b[32m   3213\u001b[39m renderer.close_group(\u001b[33m'\u001b[39m\u001b[33maxes\u001b[39m\u001b[33m'\u001b[39m)\n\u001b[32m   3214\u001b[39m \u001b[38;5;28mself\u001b[39m.stale = \u001b[38;5;28;01mFalse\u001b[39;00m\n",
      "\u001b[36mFile \u001b[39m\u001b[32mc:\\Users\\benav\\AppData\\Local\\Programs\\Python\\Python313\\Lib\\site-packages\\matplotlib\\image.py:134\u001b[39m, in \u001b[36m_draw_list_compositing_images\u001b[39m\u001b[34m(renderer, parent, artists, suppress_composite)\u001b[39m\n\u001b[32m    132\u001b[39m \u001b[38;5;28;01mif\u001b[39;00m not_composite \u001b[38;5;129;01mor\u001b[39;00m \u001b[38;5;129;01mnot\u001b[39;00m has_images:\n\u001b[32m    133\u001b[39m     \u001b[38;5;28;01mfor\u001b[39;00m a \u001b[38;5;129;01min\u001b[39;00m artists:\n\u001b[32m--> \u001b[39m\u001b[32m134\u001b[39m         \u001b[43ma\u001b[49m\u001b[43m.\u001b[49m\u001b[43mdraw\u001b[49m\u001b[43m(\u001b[49m\u001b[43mrenderer\u001b[49m\u001b[43m)\u001b[49m\n\u001b[32m    135\u001b[39m \u001b[38;5;28;01melse\u001b[39;00m:\n\u001b[32m    136\u001b[39m     \u001b[38;5;66;03m# Composite any adjacent images together\u001b[39;00m\n\u001b[32m    137\u001b[39m     image_group = []\n",
      "\u001b[36mFile \u001b[39m\u001b[32mc:\\Users\\benav\\AppData\\Local\\Programs\\Python\\Python313\\Lib\\site-packages\\matplotlib\\artist.py:71\u001b[39m, in \u001b[36mallow_rasterization.<locals>.draw_wrapper\u001b[39m\u001b[34m(artist, renderer)\u001b[39m\n\u001b[32m     68\u001b[39m     \u001b[38;5;28;01mif\u001b[39;00m artist.get_agg_filter() \u001b[38;5;129;01mis\u001b[39;00m \u001b[38;5;129;01mnot\u001b[39;00m \u001b[38;5;28;01mNone\u001b[39;00m:\n\u001b[32m     69\u001b[39m         renderer.start_filter()\n\u001b[32m---> \u001b[39m\u001b[32m71\u001b[39m     \u001b[38;5;28;01mreturn\u001b[39;00m \u001b[43mdraw\u001b[49m\u001b[43m(\u001b[49m\u001b[43martist\u001b[49m\u001b[43m,\u001b[49m\u001b[43m \u001b[49m\u001b[43mrenderer\u001b[49m\u001b[43m)\u001b[49m\n\u001b[32m     72\u001b[39m \u001b[38;5;28;01mfinally\u001b[39;00m:\n\u001b[32m     73\u001b[39m     \u001b[38;5;28;01mif\u001b[39;00m artist.get_agg_filter() \u001b[38;5;129;01mis\u001b[39;00m \u001b[38;5;129;01mnot\u001b[39;00m \u001b[38;5;28;01mNone\u001b[39;00m:\n",
      "\u001b[36mFile \u001b[39m\u001b[32mc:\\Users\\benav\\AppData\\Local\\Programs\\Python\\Python313\\Lib\\site-packages\\matplotlib\\collections.py:1017\u001b[39m, in \u001b[36m_CollectionWithSizes.draw\u001b[39m\u001b[34m(self, renderer)\u001b[39m\n\u001b[32m   1014\u001b[39m \u001b[38;5;129m@artist\u001b[39m.allow_rasterization\n\u001b[32m   1015\u001b[39m \u001b[38;5;28;01mdef\u001b[39;00m\u001b[38;5;250m \u001b[39m\u001b[34mdraw\u001b[39m(\u001b[38;5;28mself\u001b[39m, renderer):\n\u001b[32m   1016\u001b[39m     \u001b[38;5;28mself\u001b[39m.set_sizes(\u001b[38;5;28mself\u001b[39m._sizes, \u001b[38;5;28mself\u001b[39m.get_figure(root=\u001b[38;5;28;01mTrue\u001b[39;00m).dpi)\n\u001b[32m-> \u001b[39m\u001b[32m1017\u001b[39m     \u001b[38;5;28;43msuper\u001b[39;49m\u001b[43m(\u001b[49m\u001b[43m)\u001b[49m\u001b[43m.\u001b[49m\u001b[43mdraw\u001b[49m\u001b[43m(\u001b[49m\u001b[43mrenderer\u001b[49m\u001b[43m)\u001b[49m\n",
      "\u001b[36mFile \u001b[39m\u001b[32mc:\\Users\\benav\\AppData\\Local\\Programs\\Python\\Python313\\Lib\\site-packages\\matplotlib\\artist.py:71\u001b[39m, in \u001b[36mallow_rasterization.<locals>.draw_wrapper\u001b[39m\u001b[34m(artist, renderer)\u001b[39m\n\u001b[32m     68\u001b[39m     \u001b[38;5;28;01mif\u001b[39;00m artist.get_agg_filter() \u001b[38;5;129;01mis\u001b[39;00m \u001b[38;5;129;01mnot\u001b[39;00m \u001b[38;5;28;01mNone\u001b[39;00m:\n\u001b[32m     69\u001b[39m         renderer.start_filter()\n\u001b[32m---> \u001b[39m\u001b[32m71\u001b[39m     \u001b[38;5;28;01mreturn\u001b[39;00m \u001b[43mdraw\u001b[49m\u001b[43m(\u001b[49m\u001b[43martist\u001b[49m\u001b[43m,\u001b[49m\u001b[43m \u001b[49m\u001b[43mrenderer\u001b[49m\u001b[43m)\u001b[49m\n\u001b[32m     72\u001b[39m \u001b[38;5;28;01mfinally\u001b[39;00m:\n\u001b[32m     73\u001b[39m     \u001b[38;5;28;01mif\u001b[39;00m artist.get_agg_filter() \u001b[38;5;129;01mis\u001b[39;00m \u001b[38;5;129;01mnot\u001b[39;00m \u001b[38;5;28;01mNone\u001b[39;00m:\n",
      "\u001b[36mFile \u001b[39m\u001b[32mc:\\Users\\benav\\AppData\\Local\\Programs\\Python\\Python313\\Lib\\site-packages\\matplotlib\\collections.py:358\u001b[39m, in \u001b[36mCollection.draw\u001b[39m\u001b[34m(self, renderer)\u001b[39m\n\u001b[32m    355\u001b[39m     \u001b[38;5;28;01mreturn\u001b[39;00m\n\u001b[32m    356\u001b[39m renderer.open_group(\u001b[38;5;28mself\u001b[39m.\u001b[34m__class__\u001b[39m.\u001b[34m__name__\u001b[39m, \u001b[38;5;28mself\u001b[39m.get_gid())\n\u001b[32m--> \u001b[39m\u001b[32m358\u001b[39m \u001b[38;5;28;43mself\u001b[39;49m\u001b[43m.\u001b[49m\u001b[43mupdate_scalarmappable\u001b[49m\u001b[43m(\u001b[49m\u001b[43m)\u001b[49m\n\u001b[32m    360\u001b[39m transform, offset_trf, offsets, paths = \u001b[38;5;28mself\u001b[39m._prepare_points()\n\u001b[32m    362\u001b[39m gc = renderer.new_gc()\n",
      "\u001b[36mFile \u001b[39m\u001b[32mc:\\Users\\benav\\AppData\\Local\\Programs\\Python\\Python313\\Lib\\site-packages\\matplotlib\\collections.py:937\u001b[39m, in \u001b[36mCollection.update_scalarmappable\u001b[39m\u001b[34m(self)\u001b[39m\n\u001b[32m    935\u001b[39m     \u001b[38;5;28mself\u001b[39m._facecolors = \u001b[38;5;28mself\u001b[39m._mapped_colors\n\u001b[32m    936\u001b[39m \u001b[38;5;28;01melse\u001b[39;00m:\n\u001b[32m--> \u001b[39m\u001b[32m937\u001b[39m     \u001b[38;5;28;43mself\u001b[39;49m\u001b[43m.\u001b[49m\u001b[43m_set_facecolor\u001b[49m\u001b[43m(\u001b[49m\u001b[38;5;28;43mself\u001b[39;49m\u001b[43m.\u001b[49m\u001b[43m_original_facecolor\u001b[49m\u001b[43m)\u001b[49m\n\u001b[32m    938\u001b[39m \u001b[38;5;28;01mif\u001b[39;00m \u001b[38;5;28mself\u001b[39m._edge_is_mapped:\n\u001b[32m    939\u001b[39m     \u001b[38;5;28mself\u001b[39m._edgecolors = \u001b[38;5;28mself\u001b[39m._mapped_colors\n",
      "\u001b[36mFile \u001b[39m\u001b[32mc:\\Users\\benav\\AppData\\Local\\Programs\\Python\\Python313\\Lib\\site-packages\\matplotlib\\collections.py:778\u001b[39m, in \u001b[36mCollection._set_facecolor\u001b[39m\u001b[34m(self, c)\u001b[39m\n\u001b[32m    775\u001b[39m \u001b[38;5;28;01mif\u001b[39;00m c \u001b[38;5;129;01mis\u001b[39;00m \u001b[38;5;28;01mNone\u001b[39;00m:\n\u001b[32m    776\u001b[39m     c = \u001b[38;5;28mself\u001b[39m._get_default_facecolor()\n\u001b[32m--> \u001b[39m\u001b[32m778\u001b[39m \u001b[38;5;28mself\u001b[39m._facecolors = \u001b[43mmcolors\u001b[49m\u001b[43m.\u001b[49m\u001b[43mto_rgba_array\u001b[49m\u001b[43m(\u001b[49m\u001b[43mc\u001b[49m\u001b[43m,\u001b[49m\u001b[43m \u001b[49m\u001b[38;5;28;43mself\u001b[39;49m\u001b[43m.\u001b[49m\u001b[43m_alpha\u001b[49m\u001b[43m)\u001b[49m\n\u001b[32m    779\u001b[39m \u001b[38;5;28mself\u001b[39m.stale = \u001b[38;5;28;01mTrue\u001b[39;00m\n",
      "\u001b[36mFile \u001b[39m\u001b[32mc:\\Users\\benav\\AppData\\Local\\Programs\\Python\\Python313\\Lib\\site-packages\\matplotlib\\colors.py:509\u001b[39m, in \u001b[36mto_rgba_array\u001b[39m\u001b[34m(c, alpha)\u001b[39m\n\u001b[32m    507\u001b[39m lens = {\u001b[38;5;28mlen\u001b[39m(cc) \u001b[38;5;28;01mif\u001b[39;00m \u001b[38;5;28misinstance\u001b[39m(cc, (\u001b[38;5;28mlist\u001b[39m, \u001b[38;5;28mtuple\u001b[39m)) \u001b[38;5;28;01melse\u001b[39;00m -\u001b[32m1\u001b[39m \u001b[38;5;28;01mfor\u001b[39;00m cc \u001b[38;5;129;01min\u001b[39;00m c}\n\u001b[32m    508\u001b[39m \u001b[38;5;28;01mif\u001b[39;00m lens == {\u001b[32m3\u001b[39m}:\n\u001b[32m--> \u001b[39m\u001b[32m509\u001b[39m     rgba = \u001b[43mnp\u001b[49m\u001b[43m.\u001b[49m\u001b[43mcolumn_stack\u001b[49m\u001b[43m(\u001b[49m\u001b[43m[\u001b[49m\u001b[43mc\u001b[49m\u001b[43m,\u001b[49m\u001b[43m \u001b[49m\u001b[43mnp\u001b[49m\u001b[43m.\u001b[49m\u001b[43mones\u001b[49m\u001b[43m(\u001b[49m\u001b[38;5;28;43mlen\u001b[39;49m\u001b[43m(\u001b[49m\u001b[43mc\u001b[49m\u001b[43m)\u001b[49m\u001b[43m)\u001b[49m\u001b[43m]\u001b[49m\u001b[43m)\u001b[49m\n\u001b[32m    510\u001b[39m \u001b[38;5;28;01melif\u001b[39;00m lens == {\u001b[32m4\u001b[39m}:\n\u001b[32m    511\u001b[39m     rgba = np.array(c)\n",
      "\u001b[36mFile \u001b[39m\u001b[32mc:\\Users\\benav\\AppData\\Local\\Programs\\Python\\Python313\\Lib\\site-packages\\numpy\\lib\\_shape_base_impl.py:658\u001b[39m, in \u001b[36mcolumn_stack\u001b[39m\u001b[34m(tup)\u001b[39m\n\u001b[32m    656\u001b[39m arrays = []\n\u001b[32m    657\u001b[39m \u001b[38;5;28;01mfor\u001b[39;00m v \u001b[38;5;129;01min\u001b[39;00m tup:\n\u001b[32m--> \u001b[39m\u001b[32m658\u001b[39m     arr = \u001b[43masanyarray\u001b[49m\u001b[43m(\u001b[49m\u001b[43mv\u001b[49m\u001b[43m)\u001b[49m\n\u001b[32m    659\u001b[39m     \u001b[38;5;28;01mif\u001b[39;00m arr.ndim < \u001b[32m2\u001b[39m:\n\u001b[32m    660\u001b[39m         arr = array(arr, copy=\u001b[38;5;28;01mNone\u001b[39;00m, subok=\u001b[38;5;28;01mTrue\u001b[39;00m, ndmin=\u001b[32m2\u001b[39m).T\n",
      "\u001b[31mMemoryError\u001b[39m: Unable to allocate 272. MiB for an array with shape (11895834, 3) and data type float64"
     ]
    },
    {
     "data": {
      "image/png": "[encoded data removed]",
      "text/plain": [
       "<Figure size 1000x600 with 1 Axes>"
      ]
     },
     "metadata": {},
     "output_type": "display_data"
    }
   ],
   "source": [
    "#Histograma y densidad de nuevos casos por país\n",
    "plt.figure(figsize=(10,6))\n",
    "sns.scatterplot(\n",
    "    data=data_latinoamerica_final,\n",
    "    x='cumulative_vaccine_doses_administered',\n",
    "    y='cumulative_confirmed',\n",
    "    hue='country_name'\n",
    ")\n",
    "plt.title('Relación entre Vacunación y Casos Confirmados')\n",
    "plt.xlabel('Dosis de Vacunas Administradas')\n",
    "plt.ylabel('Casos Confirmados')\n",
    "plt.legend()\n",
    "plt.show()\n",
    "\n",
    "# permite ver si la cantidad de vacunas administradas en un país tiene alguna relación con la cantidad de casos confirmados como brazil\n",
    "#Más casos confirmados acumulados (está más alto en el eje Y).\n",
    "#Más vacunas aplicadas (está más a la derecha en el eje X).\n"
   ]
  },
  {
   "cell_type": "markdown",
   "id": "e3d99b9d",
   "metadata": {},
   "source": [
    "Avanze 3 (las trasformaciones y trasforma Y ELIMINAR DATOS NaN ya en el avanze 1)"
   ]
  },
  {
   "cell_type": "code",
   "execution_count": null,
   "id": "04c9463c",
   "metadata": {},
   "outputs": [
    {
     "name": "stdout",
     "output_type": "stream",
     "text": [
      "location_key                             0\n",
      "date                                     0\n",
      "country_code                             0\n",
      "country_name                             0\n",
      "new_confirmed                            0\n",
      "new_deceased                             0\n",
      "cumulative_confirmed                     0\n",
      "cumulative_deceased                      0\n",
      "cumulative_vaccine_doses_administered    0\n",
      "population                               0\n",
      "population_male                          0\n",
      "population_female                        0\n",
      "population_rural                         0\n",
      "population_urban                         0\n",
      "population_density                       0\n",
      "human_development_index                  0\n",
      "population_age_00_09                     0\n",
      "population_age_10_19                     0\n",
      "population_age_20_29                     0\n",
      "population_age_30_39                     0\n",
      "population_age_40_49                     0\n",
      "population_age_50_59                     0\n",
      "population_age_60_69                     0\n",
      "population_age_70_79                     0\n",
      "population_age_80_and_older              0\n",
      "gdp_usd                                  0\n",
      "gdp_per_capita_usd                       0\n",
      "latitude                                 0\n",
      "longitude                                0\n",
      "area_sq_km                               0\n",
      "smoking_prevalence                       0\n",
      "diabetes_prevalence                      0\n",
      "infant_mortality_rate                    0\n",
      "nurses_per_1000                          0\n",
      "physicians_per_1000                      0\n",
      "average_temperature_celsius              0\n",
      "minimum_temperature_celsius              0\n",
      "maximum_temperature_celsius              0\n",
      "rainfall_mm                              0\n",
      "relative_humidity                        0\n",
      "population_largest_city                  0\n",
      "area_rural_sq_km                         0\n",
      "area_urban_sq_km                         0\n",
      "life_expectancy                          0\n",
      "adult_male_mortality_rate                0\n",
      "adult_female_mortality_rate              0\n",
      "pollution_mortality_rate                 0\n",
      "comorbidity_mortality_rate               0\n",
      "new_recovered                            0\n",
      "cumulative_recovered                     0\n",
      "dtype: int64\n",
      "False\n"
     ]
    }
   ],
   "source": [
    "#verificar si tengo valores nulos \n",
    "print(data_latinoamerica_final.isnull().sum())\n",
    "print(data_latinoamerica_final.isnull().values.any())"
   ]
  },
  {
   "cell_type": "code",
   "execution_count": null,
   "id": "2415876f",
   "metadata": {},
   "outputs": [
    {
     "name": "stdout",
     "output_type": "stream",
     "text": [
      "  country_name  cumulative_confirmed  cumulative_recovered\n",
      "0    Argentina          12074.474446           8822.645593\n",
      "1       Brazil          12074.474446           8822.645593\n",
      "2        Chile          12074.474446           8822.645593\n",
      "3     Colombia          12074.474446           8822.645593\n",
      "4       Mexico          12074.474446           8822.645593\n",
      "5         Peru          12074.474446           8822.645593\n"
     ]
    }
   ],
   "source": [
    "# agrupamos y con last seleccionamos el ultimo valor \n",
    "tabla_resultado = data_latinoamerica_final.groupby(\"country_name\").agg({\n",
    "    \"cumulative_confirmed\": \"last\",   # Último dato de casos confirmados acumulados\n",
    "    \"cumulative_recovered\": \"last\"    # Último dato de recuperados acumulados\n",
    "}).reset_index()  # crea un índice (0,1,2,3)\n",
    "\n",
    "# Mostramos la tabla con los resultados\n",
    "print(tabla_resultado)\n"
   ]
  },
  {
   "cell_type": "code",
   "execution_count": null,
   "id": "04c0a267",
   "metadata": {},
   "outputs": [
    {
     "name": "stderr",
     "output_type": "stream",
     "text": [
      "C:\\Users\\benav\\AppData\\Local\\Temp\\ipykernel_2700\\2309889488.py:2: SettingWithCopyWarning: \n",
      "A value is trying to be set on a copy of a slice from a DataFrame.\n",
      "Try using .loc[row_indexer,col_indexer] = value instead\n",
      "\n",
      "See the caveats in the documentation: https://pandas.pydata.org/pandas-docs/stable/user_guide/indexing.html#returning-a-view-versus-a-copy\n",
      "  data_latinoamerica_final[\"casos_activos_estimados\"] = (\n"
     ]
    },
    {
     "data": {
      "image/png": "[encoded data removed]",
      "text/plain": [
       "<Figure size 1200x600 with 1 Axes>"
      ]
     },
     "metadata": {},
     "output_type": "display_data"
    }
   ],
   "source": [
    "#Casos activos estimados vs recuperados grafico linea\n",
    "data_latinoamerica_final[\"casos_activos_estimados\"] = (\n",
    "    data_latinoamerica_final[\"cumulative_confirmed\"] \n",
    "    - data_latinoamerica_final[\"cumulative_recovered\"]\n",
    "    - data_latinoamerica_final[\"cumulative_deceased\"]\n",
    ")\n",
    "\n",
    "chile = data_latinoamerica_final[data_latinoamerica_final[\"country_name\"] == \"Chile\"]\n",
    "\n",
    "plt.figure(figsize=(12, 6))\n",
    "plt.plot(chile[\"date\"], chile[\"casos_activos_estimados\"], label=\"Casos Activos Estimados\", color=\"orange\")\n",
    "plt.plot(chile[\"date\"], chile[\"cumulative_recovered\"], label=\"Recuperados\", color=\"green\")\n",
    "plt.title(\"Evolución de Casos Activos vs Recuperados en Colombia\")\n",
    "plt.xlabel(\"Fecha\")\n",
    "plt.ylabel(\"Número de Personas\")\n",
    "plt.legend()\n",
    "plt.grid(True)\n",
    "plt.show()"
   ]
  },
  {
   "cell_type": "code",
   "execution_count": null,
   "id": "74c96de4",
   "metadata": {},
   "outputs": [
    {
     "data": {
      "image/png": "[encoded data removed]",
      "text/plain": [
       "<Figure size 800x600 with 2 Axes>"
      ]
     },
     "metadata": {},
     "output_type": "display_data"
    }
   ],
   "source": [
    "#mapa de calor\n",
    "corr = [\n",
    "    'new_confirmed', 'new_deceased', 'cumulative_confirmed',\n",
    "    'cumulative_deceased', 'cumulative_vaccine_doses_administered',\n",
    "    'population_density', 'gdp_per_capita_usd',\n",
    "    'life_expectancy', 'smoking_prevalence', 'diabetes_prevalence'\n",
    "]\n",
    "\n",
    "# Correlación para países seleccionados\n",
    "corr = data_latinoamerica_final[corr].corr()\n",
    "\n",
    "plt.figure(figsize=(8, 6))\n",
    "sns.heatmap(corr, annot=True, cmap=\"coolwarm\", fmt=\".2f\")\n",
    "plt.title(\"Correlación entre variables\")\n",
    "plt.show()\n"
   ]
  },
  {
   "cell_type": "code",
   "execution_count": null,
   "id": "2c6c64d0",
   "metadata": {},
   "outputs": [
    {
     "name": "stdout",
     "output_type": "stream",
     "text": [
      "31.08101075011777\n"
     ]
    }
   ],
   "source": [
    "#PRUEBA\n",
    "media_casos = data_latinoamerica_final[\"new_confirmed\"].mean()\n",
    "print(media_casos)"
   ]
  },
  {
   "cell_type": "code",
   "execution_count": null,
   "id": "33331ec5",
   "metadata": {},
   "outputs": [
    {
     "name": "stdout",
     "output_type": "stream",
     "text": [
      "Promedio de nuevos casos: 31.08101075011777\n"
     ]
    },
    {
     "name": "stderr",
     "output_type": "stream",
     "text": [
      "C:\\Users\\benav\\AppData\\Local\\Temp\\ipykernel_2700\\708043754.py:13: SettingWithCopyWarning: \n",
      "A value is trying to be set on a copy of a slice from a DataFrame.\n",
      "Try using .loc[row_indexer,col_indexer] = value instead\n",
      "\n",
      "See the caveats in the documentation: https://pandas.pydata.org/pandas-docs/stable/user_guide/indexing.html#returning-a-view-versus-a-copy\n",
      "  data_latinoamerica_final.loc[:, \"clasificacion_nuevos_casos\"] = data_latinoamerica_final[\"new_confirmed\"].apply(clasificar_nuevos_casos) #UTILIZANDO APPLY añade la funcion\n"
     ]
    },
    {
     "name": "stdout",
     "output_type": "stream",
     "text": [
      "    new_confirmed clasificacion_nuevos_casos\n",
      "0             3.0                       Bajo\n",
      "1            14.0                       Bajo\n",
      "2             3.0                       Bajo\n",
      "3             7.0                       Bajo\n",
      "4             5.0                       Bajo\n",
      "5             9.0                       Bajo\n",
      "6             4.0                       Bajo\n",
      "7             3.0                       Bajo\n",
      "8             0.0                       Bajo\n",
      "9             1.0                       Bajo\n",
      "10            0.0                       Bajo\n",
      "11            1.0                       Bajo\n",
      "12            0.0                       Bajo\n",
      "13            0.0                       Bajo\n",
      "14            2.0                       Bajo\n",
      "15            0.0                       Bajo\n",
      "16            2.0                       Bajo\n",
      "17            1.0                       Bajo\n",
      "18           10.0                       Bajo\n",
      "19            1.0                       Bajo\n"
     ]
    }
   ],
   "source": [
    "# Calcular la media de los nuevos casos\n",
    "media_casos = data_latinoamerica_final[\"new_confirmed\"].mean() #mean media suma todo y lo divide\n",
    "print(\"Promedio de nuevos casos:\", media_casos)\n",
    "\n",
    "# Función para clasificar los nuevos casos con base en el promedio\n",
    "def clasificar_nuevos_casos(valor):\n",
    "    if valor > media_casos:\n",
    "        return \"Alto\"  # Si el valor es mayor que la media\n",
    "    else:\n",
    "        return \"Bajo\"  # Si el valor es menor o igual a la media\n",
    "\n",
    "# Aplicar la función a la columna 'new_confirmed' y crear la nueva columna 'clasificacion_nuevos_casos'\n",
    "data_latinoamerica_final.loc[:, \"clasificacion_nuevos_casos\"] = data_latinoamerica_final[\"new_confirmed\"].apply(clasificar_nuevos_casos) #UTILIZANDO APPLY añade la funcion\n",
    "\n",
    "# Ver los resultados\n",
    "print(data_latinoamerica_final[[\"new_confirmed\", \"clasificacion_nuevos_casos\"]].head(20))\n"
   ]
  },
  {
   "cell_type": "code",
   "execution_count": null,
   "id": "f654efb1",
   "metadata": {},
   "outputs": [
    {
     "name": "stdout",
     "output_type": "stream",
     "text": [
      "    new_confirmed clasificacion_nuevos_casos\n",
      "80           62.0                       Alto\n",
      "81           54.0                       Alto\n",
      "82           33.0                       Alto\n",
      "83          105.0                       Alto\n",
      "84          116.0                       Alto\n",
      "85          110.0                       Alto\n",
      "86           82.0                       Alto\n",
      "87           69.0                       Alto\n",
      "88          109.0                       Alto\n",
      "89           84.0                       Alto\n",
      "90           90.0                       Alto\n",
      "91          121.0                       Alto\n",
      "92          144.0                       Alto\n",
      "93          107.0                       Alto\n",
      "94          105.0                       Alto\n",
      "95           72.0                       Alto\n",
      "96          105.0                       Alto\n",
      "97           76.0                       Alto\n",
      "98          102.0                       Alto\n",
      "99          100.0                       Alto\n"
     ]
    }
   ],
   "source": [
    "#FILTRAR LOS CASOS ALTOS SOLAMENTE\n",
    "alta_clasificacion = data_latinoamerica_final[data_latinoamerica_final[\"clasificacion_nuevos_casos\"] == \"Alto\"]\n",
    "# Mostrar las primeras 20 filas de los resultados filtrados\n",
    "print(alta_clasificacion[[\"new_confirmed\", \"clasificacion_nuevos_casos\"]].head(20))"
   ]
  },
  {
   "cell_type": "code",
   "execution_count": null,
   "id": "4f421e81",
   "metadata": {},
   "outputs": [
    {
     "data": {
      "text/plain": [
       "location_key                             0\n",
       "date                                     0\n",
       "country_code                             0\n",
       "country_name                             0\n",
       "new_confirmed                            0\n",
       "new_deceased                             0\n",
       "cumulative_confirmed                     0\n",
       "cumulative_deceased                      0\n",
       "cumulative_vaccine_doses_administered    0\n",
       "population                               0\n",
       "population_male                          0\n",
       "population_female                        0\n",
       "population_rural                         0\n",
       "population_urban                         0\n",
       "population_density                       0\n",
       "human_development_index                  0\n",
       "population_age_00_09                     0\n",
       "population_age_10_19                     0\n",
       "population_age_20_29                     0\n",
       "population_age_30_39                     0\n",
       "population_age_40_49                     0\n",
       "population_age_50_59                     0\n",
       "population_age_60_69                     0\n",
       "population_age_70_79                     0\n",
       "population_age_80_and_older              0\n",
       "gdp_usd                                  0\n",
       "gdp_per_capita_usd                       0\n",
       "latitude                                 0\n",
       "longitude                                0\n",
       "area_sq_km                               0\n",
       "smoking_prevalence                       0\n",
       "diabetes_prevalence                      0\n",
       "infant_mortality_rate                    0\n",
       "nurses_per_1000                          0\n",
       "physicians_per_1000                      0\n",
       "average_temperature_celsius              0\n",
       "minimum_temperature_celsius              0\n",
       "maximum_temperature_celsius              0\n",
       "rainfall_mm                              0\n",
       "relative_humidity                        0\n",
       "population_largest_city                  0\n",
       "area_rural_sq_km                         0\n",
       "area_urban_sq_km                         0\n",
       "life_expectancy                          0\n",
       "adult_male_mortality_rate                0\n",
       "adult_female_mortality_rate              0\n",
       "pollution_mortality_rate                 0\n",
       "comorbidity_mortality_rate               0\n",
       "new_recovered                            0\n",
       "cumulative_recovered                     0\n",
       "casos_activos_estimados                  0\n",
       "clasificacion_nuevos_casos               0\n",
       "dtype: int64"
      ]
     },
     "execution_count": 38,
     "metadata": {},
     "output_type": "execute_result"
    }
   ],
   "source": [
    "print(data_latinoamerica_final.isnull().sum())  \n"
   ]
  },
  {
   "cell_type": "code",
   "execution_count": null,
   "id": "f70741d9",
   "metadata": {},
   "outputs": [
    {
     "name": "stdout",
     "output_type": "stream",
     "text": [
      "         location_key       date country_code country_name  new_confirmed  \\\n",
      "0                  AR 2020-01-01           AR    Argentina       3.000000   \n",
      "1                  AR 2020-01-02           AR    Argentina      14.000000   \n",
      "2                  AR 2020-01-03           AR    Argentina       3.000000   \n",
      "3                  AR 2020-01-04           AR    Argentina       7.000000   \n",
      "4                  AR 2020-01-05           AR    Argentina       5.000000   \n",
      "...               ...        ...          ...          ...            ...   \n",
      "12136772  PE_UCA_0401 2022-09-13           PE         Peru      31.953966   \n",
      "12136773  PE_UCA_0401 2022-09-14           PE         Peru      31.953966   \n",
      "12136774  PE_UCA_0401 2022-09-15           PE         Peru      31.953966   \n",
      "12136775  PE_UCA_0401 2022-09-16           PE         Peru      31.953966   \n",
      "12136776  PE_UCA_0401 2022-09-17           PE         Peru      31.953966   \n",
      "\n",
      "          new_deceased  cumulative_confirmed  cumulative_deceased  \\\n",
      "0             0.000000              3.000000             0.000000   \n",
      "1             0.000000             17.000000             0.000000   \n",
      "2             0.000000             20.000000             0.000000   \n",
      "3             0.000000             27.000000             0.000000   \n",
      "4             0.000000             32.000000             0.000000   \n",
      "...                ...                   ...                  ...   \n",
      "12136772      0.701418          12074.474446           333.552235   \n",
      "12136773      0.701418          12074.474446           333.552235   \n",
      "12136774      0.701418          12074.474446           333.552235   \n",
      "12136775      0.701418          12074.474446           333.552235   \n",
      "12136776      0.701418          12074.474446           333.552235   \n",
      "\n",
      "          cumulative_vaccine_doses_administered  population  ...  \\\n",
      "0                                  1.670412e+06  44938712.0  ...   \n",
      "1                                  1.670412e+06  44938712.0  ...   \n",
      "2                                  1.670412e+06  44938712.0  ...   \n",
      "3                                  1.670412e+06  44938712.0  ...   \n",
      "4                                  1.670412e+06  44938712.0  ...   \n",
      "...                                         ...         ...  ...   \n",
      "12136772                           1.670412e+06      2860.0  ...   \n",
      "12136773                           1.670412e+06      2860.0  ...   \n",
      "12136774                           1.670412e+06      2860.0  ...   \n",
      "12136775                           1.670412e+06      2860.0  ...   \n",
      "12136776                           1.670412e+06      2860.0  ...   \n",
      "\n",
      "          area_urban_sq_km  life_expectancy  adult_male_mortality_rate  \\\n",
      "0             55032.000000         76.52000                  147.08600   \n",
      "1             55032.000000         76.52000                  147.08600   \n",
      "2             55032.000000         76.52000                  147.08600   \n",
      "3             55032.000000         76.52000                  147.08600   \n",
      "4             55032.000000         76.52000                  147.08600   \n",
      "...                    ...              ...                        ...   \n",
      "12136772      25080.055556         76.01306                  168.57785   \n",
      "12136773      25080.055556         76.01306                  168.57785   \n",
      "12136774      25080.055556         76.01306                  168.57785   \n",
      "12136775      25080.055556         76.01306                  168.57785   \n",
      "12136776      25080.055556         76.01306                  168.57785   \n",
      "\n",
      "          adult_female_mortality_rate  pollution_mortality_rate  \\\n",
      "0                             79.4830                 26.600000   \n",
      "1                             79.4830                 26.600000   \n",
      "2                             79.4830                 26.600000   \n",
      "3                             79.4830                 26.600000   \n",
      "4                             79.4830                 26.600000   \n",
      "...                               ...                       ...   \n",
      "12136772                      91.2036                 41.626316   \n",
      "12136773                      91.2036                 41.626316   \n",
      "12136774                      91.2036                 41.626316   \n",
      "12136775                      91.2036                 41.626316   \n",
      "12136776                      91.2036                 41.626316   \n",
      "\n",
      "          comorbidity_mortality_rate  new_recovered  cumulative_recovered  \\\n",
      "0                          15.800000      23.881789           8822.645593   \n",
      "1                          15.800000      23.881789           8822.645593   \n",
      "2                          15.800000      23.881789           8822.645593   \n",
      "3                          15.800000      23.881789           8822.645593   \n",
      "4                          15.800000      23.881789           8822.645593   \n",
      "...                              ...            ...                   ...   \n",
      "12136772                   15.178947      23.881789           8822.645593   \n",
      "12136773                   15.178947      23.881789           8822.645593   \n",
      "12136774                   15.178947      23.881789           8822.645593   \n",
      "12136775                   15.178947      23.881789           8822.645593   \n",
      "12136776                   15.178947      23.881789           8822.645593   \n",
      "\n",
      "          casos_activos_estimados  clasificacion_nuevos_casos  \n",
      "0                    -8819.645593                        Bajo  \n",
      "1                    -8805.645593                        Bajo  \n",
      "2                    -8802.645593                        Bajo  \n",
      "3                    -8795.645593                        Bajo  \n",
      "4                    -8790.645593                        Bajo  \n",
      "...                           ...                         ...  \n",
      "12136772              2918.276618                        Alto  \n",
      "12136773              2918.276618                        Alto  \n",
      "12136774              2918.276618                        Alto  \n",
      "12136775              2918.276618                        Alto  \n",
      "12136776              2918.276618                        Alto  \n",
      "\n",
      "[11970289 rows x 52 columns]\n"
     ]
    }
   ],
   "source": [
    "print(data_latinoamerica_final)"
   ]
  },
  {
   "cell_type": "code",
   "execution_count": null,
   "id": "dd2ccbd6",
   "metadata": {},
   "outputs": [
    {
     "name": "stdout",
     "output_type": "stream",
     "text": [
      "country_name\n",
      "Brazil       5565456\n",
      "Mexico       2475518\n",
      "Peru         1883891\n",
      "Colombia     1145596\n",
      "Argentina     540095\n",
      "Chile         359733\n",
      "Name: count, dtype: int64\n"
     ]
    }
   ],
   "source": [
    "print(data_latinoamerica_final[\"country_name\"].value_counts())"
   ]
  }
 ],
 "metadata": {
  "kernelspec": {
   "display_name": "Python 3",
   "language": "python",
   "name": "python3"
  },
  "language_info": {
   "codemirror_mode": {
    "name": "ipython",
    "version": 3
   },
   "file_extension": ".py",
   "mimetype": "text/x-python",
   "name": "python",
   "nbconvert_exporter": "python",
   "pygments_lexer": "ipython3",
   "version": "3.13.3"
  }
 },
 "nbformat": 4,
 "nbformat_minor": 5
}
